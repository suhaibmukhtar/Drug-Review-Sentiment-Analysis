{
  "cells": [
    {
      "cell_type": "markdown",
      "metadata": {
        "id": "GGWyRnP0cZG-"
      },
      "source": [
        "### Importing libraries"
      ]
    },
    {
      "cell_type": "code",
      "execution_count": 3,
      "metadata": {
        "id": "3VNk-yU2cNxd"
      },
      "outputs": [],
      "source": [
        "import numpy as np\n",
        "import pandas as pd\n",
        "import matplotlib.pyplot as plt\n",
        "import seaborn as sns\n",
        "import tensorflow as tf\n",
        "from tensorflow.keras.models import Sequential\n",
        "from tensorflow.keras.layers import LSTM,Bidirectional,Dense,SpatialDropout1D,Embedding,GRU\n",
        "from keras.optimizers import Adam\n",
        "from tensorflow.keras.preprocessing.text import Tokenizer\n",
        "from tensorflow.keras.preprocessing.sequence import pad_sequences\n",
        "from sklearn.model_selection import train_test_split\n",
        "from sklearn.metrics import classification_report,confusion_matrix\n",
        "import matplotlib.pyplot as plt\n",
        "from sklearn.metrics import roc_curve, auc\n",
        "from sklearn.multiclass import OneVsRestClassifier\n",
        "from sklearn.linear_model import LogisticRegression\n",
        "from sklearn.model_selection import train_test_split\n",
        "from sklearn.preprocessing import label_binarize"
      ]
    },
    {
      "cell_type": "code",
      "execution_count": 1,
      "metadata": {
        "colab": {
          "base_uri": "https://localhost:8080/"
        },
        "id": "KLLRKhRZRmt5",
        "outputId": "9f653c62-cc19-43a3-c46a-12ddfdc1acec"
      },
      "outputs": [
        {
          "output_type": "stream",
          "name": "stdout",
          "text": [
            "Drive already mounted at /content/drive; to attempt to forcibly remount, call drive.mount(\"/content/drive\", force_remount=True).\n"
          ]
        }
      ],
      "source": [
        "from google.colab import drive\n",
        "drive.mount('/content/drive')"
      ]
    },
    {
      "cell_type": "code",
      "execution_count": 4,
      "metadata": {
        "id": "hbLx8oBVf88W"
      },
      "outputs": [],
      "source": [
        "data=pd.read_csv('/content/drive/MyDrive/Colab Notebooks/cleaned_dataset_02_drugs.csv',index_col=0)"
      ]
    },
    {
      "cell_type": "code",
      "execution_count": 5,
      "metadata": {
        "colab": {
          "base_uri": "https://localhost:8080/",
          "height": 206
        },
        "id": "P9Kta7dhgQwz",
        "outputId": "dd5fe4c9-64cf-40a6-c27e-94212825888c"
      },
      "outputs": [
        {
          "output_type": "execute_result",
          "data": {
            "text/plain": [
              "                                              review  sentiment\n",
              "0  stuffy nose retire physician med try allergy s...          2\n",
              "1  cold symptom clear right even throat hurting g...          2\n",
              "2  prothrombin time international normalize ratio...          1\n",
              "3                                       fall realise          0\n",
              "4  grandfather prescribe medication coumadin assi...          0"
            ],
            "text/html": [
              "\n",
              "  <div id=\"df-797e9b94-ad17-4c7f-a389-3dfc88e4eea0\" class=\"colab-df-container\">\n",
              "    <div>\n",
              "<style scoped>\n",
              "    .dataframe tbody tr th:only-of-type {\n",
              "        vertical-align: middle;\n",
              "    }\n",
              "\n",
              "    .dataframe tbody tr th {\n",
              "        vertical-align: top;\n",
              "    }\n",
              "\n",
              "    .dataframe thead th {\n",
              "        text-align: right;\n",
              "    }\n",
              "</style>\n",
              "<table border=\"1\" class=\"dataframe\">\n",
              "  <thead>\n",
              "    <tr style=\"text-align: right;\">\n",
              "      <th></th>\n",
              "      <th>review</th>\n",
              "      <th>sentiment</th>\n",
              "    </tr>\n",
              "  </thead>\n",
              "  <tbody>\n",
              "    <tr>\n",
              "      <th>0</th>\n",
              "      <td>stuffy nose retire physician med try allergy s...</td>\n",
              "      <td>2</td>\n",
              "    </tr>\n",
              "    <tr>\n",
              "      <th>1</th>\n",
              "      <td>cold symptom clear right even throat hurting g...</td>\n",
              "      <td>2</td>\n",
              "    </tr>\n",
              "    <tr>\n",
              "      <th>2</th>\n",
              "      <td>prothrombin time international normalize ratio...</td>\n",
              "      <td>1</td>\n",
              "    </tr>\n",
              "    <tr>\n",
              "      <th>3</th>\n",
              "      <td>fall realise</td>\n",
              "      <td>0</td>\n",
              "    </tr>\n",
              "    <tr>\n",
              "      <th>4</th>\n",
              "      <td>grandfather prescribe medication coumadin assi...</td>\n",
              "      <td>0</td>\n",
              "    </tr>\n",
              "  </tbody>\n",
              "</table>\n",
              "</div>\n",
              "    <div class=\"colab-df-buttons\">\n",
              "\n",
              "  <div class=\"colab-df-container\">\n",
              "    <button class=\"colab-df-convert\" onclick=\"convertToInteractive('df-797e9b94-ad17-4c7f-a389-3dfc88e4eea0')\"\n",
              "            title=\"Convert this dataframe to an interactive table.\"\n",
              "            style=\"display:none;\">\n",
              "\n",
              "  <svg xmlns=\"http://www.w3.org/2000/svg\" height=\"24px\" viewBox=\"0 -960 960 960\">\n",
              "    <path d=\"M120-120v-720h720v720H120Zm60-500h600v-160H180v160Zm220 220h160v-160H400v160Zm0 220h160v-160H400v160ZM180-400h160v-160H180v160Zm440 0h160v-160H620v160ZM180-180h160v-160H180v160Zm440 0h160v-160H620v160Z\"/>\n",
              "  </svg>\n",
              "    </button>\n",
              "\n",
              "  <style>\n",
              "    .colab-df-container {\n",
              "      display:flex;\n",
              "      gap: 12px;\n",
              "    }\n",
              "\n",
              "    .colab-df-convert {\n",
              "      background-color: #E8F0FE;\n",
              "      border: none;\n",
              "      border-radius: 50%;\n",
              "      cursor: pointer;\n",
              "      display: none;\n",
              "      fill: #1967D2;\n",
              "      height: 32px;\n",
              "      padding: 0 0 0 0;\n",
              "      width: 32px;\n",
              "    }\n",
              "\n",
              "    .colab-df-convert:hover {\n",
              "      background-color: #E2EBFA;\n",
              "      box-shadow: 0px 1px 2px rgba(60, 64, 67, 0.3), 0px 1px 3px 1px rgba(60, 64, 67, 0.15);\n",
              "      fill: #174EA6;\n",
              "    }\n",
              "\n",
              "    .colab-df-buttons div {\n",
              "      margin-bottom: 4px;\n",
              "    }\n",
              "\n",
              "    [theme=dark] .colab-df-convert {\n",
              "      background-color: #3B4455;\n",
              "      fill: #D2E3FC;\n",
              "    }\n",
              "\n",
              "    [theme=dark] .colab-df-convert:hover {\n",
              "      background-color: #434B5C;\n",
              "      box-shadow: 0px 1px 3px 1px rgba(0, 0, 0, 0.15);\n",
              "      filter: drop-shadow(0px 1px 2px rgba(0, 0, 0, 0.3));\n",
              "      fill: #FFFFFF;\n",
              "    }\n",
              "  </style>\n",
              "\n",
              "    <script>\n",
              "      const buttonEl =\n",
              "        document.querySelector('#df-797e9b94-ad17-4c7f-a389-3dfc88e4eea0 button.colab-df-convert');\n",
              "      buttonEl.style.display =\n",
              "        google.colab.kernel.accessAllowed ? 'block' : 'none';\n",
              "\n",
              "      async function convertToInteractive(key) {\n",
              "        const element = document.querySelector('#df-797e9b94-ad17-4c7f-a389-3dfc88e4eea0');\n",
              "        const dataTable =\n",
              "          await google.colab.kernel.invokeFunction('convertToInteractive',\n",
              "                                                    [key], {});\n",
              "        if (!dataTable) return;\n",
              "\n",
              "        const docLinkHtml = 'Like what you see? Visit the ' +\n",
              "          '<a target=\"_blank\" href=https://colab.research.google.com/notebooks/data_table.ipynb>data table notebook</a>'\n",
              "          + ' to learn more about interactive tables.';\n",
              "        element.innerHTML = '';\n",
              "        dataTable['output_type'] = 'display_data';\n",
              "        await google.colab.output.renderOutput(dataTable, element);\n",
              "        const docLink = document.createElement('div');\n",
              "        docLink.innerHTML = docLinkHtml;\n",
              "        element.appendChild(docLink);\n",
              "      }\n",
              "    </script>\n",
              "  </div>\n",
              "\n",
              "\n",
              "<div id=\"df-83ffa63e-7d84-452a-8dde-f1e36d67ae6b\">\n",
              "  <button class=\"colab-df-quickchart\" onclick=\"quickchart('df-83ffa63e-7d84-452a-8dde-f1e36d67ae6b')\"\n",
              "            title=\"Suggest charts\"\n",
              "            style=\"display:none;\">\n",
              "\n",
              "<svg xmlns=\"http://www.w3.org/2000/svg\" height=\"24px\"viewBox=\"0 0 24 24\"\n",
              "     width=\"24px\">\n",
              "    <g>\n",
              "        <path d=\"M19 3H5c-1.1 0-2 .9-2 2v14c0 1.1.9 2 2 2h14c1.1 0 2-.9 2-2V5c0-1.1-.9-2-2-2zM9 17H7v-7h2v7zm4 0h-2V7h2v10zm4 0h-2v-4h2v4z\"/>\n",
              "    </g>\n",
              "</svg>\n",
              "  </button>\n",
              "\n",
              "<style>\n",
              "  .colab-df-quickchart {\n",
              "      --bg-color: #E8F0FE;\n",
              "      --fill-color: #1967D2;\n",
              "      --hover-bg-color: #E2EBFA;\n",
              "      --hover-fill-color: #174EA6;\n",
              "      --disabled-fill-color: #AAA;\n",
              "      --disabled-bg-color: #DDD;\n",
              "  }\n",
              "\n",
              "  [theme=dark] .colab-df-quickchart {\n",
              "      --bg-color: #3B4455;\n",
              "      --fill-color: #D2E3FC;\n",
              "      --hover-bg-color: #434B5C;\n",
              "      --hover-fill-color: #FFFFFF;\n",
              "      --disabled-bg-color: #3B4455;\n",
              "      --disabled-fill-color: #666;\n",
              "  }\n",
              "\n",
              "  .colab-df-quickchart {\n",
              "    background-color: var(--bg-color);\n",
              "    border: none;\n",
              "    border-radius: 50%;\n",
              "    cursor: pointer;\n",
              "    display: none;\n",
              "    fill: var(--fill-color);\n",
              "    height: 32px;\n",
              "    padding: 0;\n",
              "    width: 32px;\n",
              "  }\n",
              "\n",
              "  .colab-df-quickchart:hover {\n",
              "    background-color: var(--hover-bg-color);\n",
              "    box-shadow: 0 1px 2px rgba(60, 64, 67, 0.3), 0 1px 3px 1px rgba(60, 64, 67, 0.15);\n",
              "    fill: var(--button-hover-fill-color);\n",
              "  }\n",
              "\n",
              "  .colab-df-quickchart-complete:disabled,\n",
              "  .colab-df-quickchart-complete:disabled:hover {\n",
              "    background-color: var(--disabled-bg-color);\n",
              "    fill: var(--disabled-fill-color);\n",
              "    box-shadow: none;\n",
              "  }\n",
              "\n",
              "  .colab-df-spinner {\n",
              "    border: 2px solid var(--fill-color);\n",
              "    border-color: transparent;\n",
              "    border-bottom-color: var(--fill-color);\n",
              "    animation:\n",
              "      spin 1s steps(1) infinite;\n",
              "  }\n",
              "\n",
              "  @keyframes spin {\n",
              "    0% {\n",
              "      border-color: transparent;\n",
              "      border-bottom-color: var(--fill-color);\n",
              "      border-left-color: var(--fill-color);\n",
              "    }\n",
              "    20% {\n",
              "      border-color: transparent;\n",
              "      border-left-color: var(--fill-color);\n",
              "      border-top-color: var(--fill-color);\n",
              "    }\n",
              "    30% {\n",
              "      border-color: transparent;\n",
              "      border-left-color: var(--fill-color);\n",
              "      border-top-color: var(--fill-color);\n",
              "      border-right-color: var(--fill-color);\n",
              "    }\n",
              "    40% {\n",
              "      border-color: transparent;\n",
              "      border-right-color: var(--fill-color);\n",
              "      border-top-color: var(--fill-color);\n",
              "    }\n",
              "    60% {\n",
              "      border-color: transparent;\n",
              "      border-right-color: var(--fill-color);\n",
              "    }\n",
              "    80% {\n",
              "      border-color: transparent;\n",
              "      border-right-color: var(--fill-color);\n",
              "      border-bottom-color: var(--fill-color);\n",
              "    }\n",
              "    90% {\n",
              "      border-color: transparent;\n",
              "      border-bottom-color: var(--fill-color);\n",
              "    }\n",
              "  }\n",
              "</style>\n",
              "\n",
              "  <script>\n",
              "    async function quickchart(key) {\n",
              "      const quickchartButtonEl =\n",
              "        document.querySelector('#' + key + ' button');\n",
              "      quickchartButtonEl.disabled = true;  // To prevent multiple clicks.\n",
              "      quickchartButtonEl.classList.add('colab-df-spinner');\n",
              "      try {\n",
              "        const charts = await google.colab.kernel.invokeFunction(\n",
              "            'suggestCharts', [key], {});\n",
              "      } catch (error) {\n",
              "        console.error('Error during call to suggestCharts:', error);\n",
              "      }\n",
              "      quickchartButtonEl.classList.remove('colab-df-spinner');\n",
              "      quickchartButtonEl.classList.add('colab-df-quickchart-complete');\n",
              "    }\n",
              "    (() => {\n",
              "      let quickchartButtonEl =\n",
              "        document.querySelector('#df-83ffa63e-7d84-452a-8dde-f1e36d67ae6b button');\n",
              "      quickchartButtonEl.style.display =\n",
              "        google.colab.kernel.accessAllowed ? 'block' : 'none';\n",
              "    })();\n",
              "  </script>\n",
              "</div>\n",
              "\n",
              "    </div>\n",
              "  </div>\n"
            ]
          },
          "metadata": {},
          "execution_count": 5
        }
      ],
      "source": [
        "data.head()"
      ]
    },
    {
      "cell_type": "code",
      "execution_count": 6,
      "metadata": {
        "id": "LHYASdfKgR12"
      },
      "outputs": [],
      "source": [
        "data.review=data.review.astype(str)"
      ]
    },
    {
      "cell_type": "code",
      "execution_count": 7,
      "metadata": {
        "colab": {
          "base_uri": "https://localhost:8080/",
          "height": 466
        },
        "id": "0D7YRZQwgUOI",
        "outputId": "5c9a3353-2a60-425d-9d84-04d02ed4cff9"
      },
      "outputs": [
        {
          "output_type": "execute_result",
          "data": {
            "text/plain": [
              "<Axes: xlabel='sentiment', ylabel='count'>"
            ]
          },
          "metadata": {},
          "execution_count": 7
        },
        {
          "output_type": "display_data",
          "data": {
            "text/plain": [
              "<Figure size 640x480 with 1 Axes>"
            ],
            "image/png": "[encoded data removed]"
          },
          "metadata": {}
        }
      ],
      "source": [
        "sns.countplot(x=data.sentiment,data=data)"
      ]
    },
    {
      "cell_type": "code",
      "execution_count": 8,
      "metadata": {
        "id": "Kpn7BScagZzU"
      },
      "outputs": [],
      "source": [
        "tokenizer=Tokenizer()\n",
        "tokenizer.fit_on_texts(data.review)"
      ]
    },
    {
      "cell_type": "code",
      "execution_count": 9,
      "metadata": {
        "id": "ugQbcRvugf9o"
      },
      "outputs": [],
      "source": [
        "vocabulary_size=len(tokenizer.word_index)+1"
      ]
    },
    {
      "cell_type": "code",
      "execution_count": 10,
      "metadata": {
        "colab": {
          "base_uri": "https://localhost:8080/"
        },
        "id": "xDD4LO47i0US",
        "outputId": "6eaa1e7d-6c29-4fcf-98d6-90bee9653372"
      },
      "outputs": [
        {
          "output_type": "execute_result",
          "data": {
            "text/plain": [
              "87837"
            ]
          },
          "metadata": {},
          "execution_count": 10
        }
      ],
      "source": [
        "vocabulary_size"
      ]
    },
    {
      "cell_type": "code",
      "execution_count": 11,
      "metadata": {
        "id": "580ter4ri2rZ"
      },
      "outputs": [],
      "source": [
        "seq=tokenizer.texts_to_sequences(data.review)"
      ]
    },
    {
      "cell_type": "code",
      "execution_count": 12,
      "metadata": {
        "id": "gIAzc42Hi42A"
      },
      "outputs": [],
      "source": [
        "num_tokens=[len(sentence)for sentence in seq]\n",
        "num_tokens=np.array(num_tokens)"
      ]
    },
    {
      "cell_type": "markdown",
      "metadata": {
        "id": "1hNOnMjii_Jn"
      },
      "source": [
        "## Maximum review length"
      ]
    },
    {
      "cell_type": "code",
      "execution_count": 13,
      "metadata": {
        "colab": {
          "base_uri": "https://localhost:8080/"
        },
        "id": "oDXwL2bdi65B",
        "outputId": "0eb83d66-4c14-4677-db8d-d7ccbf0f79ff"
      },
      "outputs": [
        {
          "output_type": "execute_result",
          "data": {
            "text/plain": [
              "338"
            ]
          },
          "metadata": {},
          "execution_count": 13
        }
      ],
      "source": [
        "max(num_tokens)"
      ]
    },
    {
      "cell_type": "code",
      "execution_count": 14,
      "metadata": {
        "colab": {
          "base_uri": "https://localhost:8080/"
        },
        "id": "UD_0RG7HjCEZ",
        "outputId": "0e119f1a-d9c6-4872-ee32-d995b2835a6c"
      },
      "outputs": [
        {
          "output_type": "execute_result",
          "data": {
            "text/plain": [
              "99.89444541175388"
            ]
          },
          "metadata": {},
          "execution_count": 14
        }
      ],
      "source": [
        "max_tokens=np.mean(num_tokens)+2*np.std(num_tokens)\n",
        "max_tokens"
      ]
    },
    {
      "cell_type": "code",
      "execution_count": 15,
      "metadata": {
        "id": "lNmnhD1vjERd"
      },
      "outputs": [],
      "source": [
        "max_tokens=100"
      ]
    },
    {
      "cell_type": "code",
      "execution_count": 16,
      "metadata": {
        "colab": {
          "base_uri": "https://localhost:8080/"
        },
        "id": "Htx82mFhjI5A",
        "outputId": "b4baabce-9189-4a25-a85c-a6c7c5b85943"
      },
      "outputs": [
        {
          "output_type": "execute_result",
          "data": {
            "text/plain": [
              "0.9507477825614792"
            ]
          },
          "metadata": {},
          "execution_count": 16
        }
      ],
      "source": [
        "np.sum(num_tokens<max_tokens)/len(num_tokens) ##99% data lies within it"
      ]
    },
    {
      "cell_type": "code",
      "execution_count": 17,
      "metadata": {
        "id": "Dn9_VgDwjLMo"
      },
      "outputs": [],
      "source": [
        "pad_seq=pad_sequences(seq,maxlen=max_tokens,padding='post')"
      ]
    },
    {
      "cell_type": "code",
      "execution_count": 18,
      "metadata": {
        "colab": {
          "base_uri": "https://localhost:8080/"
        },
        "id": "kL3SG4oCjTpD",
        "outputId": "0ba15057-73d7-4c4d-dfd4-8f88233b6322"
      },
      "outputs": [
        {
          "output_type": "execute_result",
          "data": {
            "text/plain": [
              "array([[  319,   139,  2159, ...,     0,     0,     0],\n",
              "       [  329,   107,   278, ...,     0,     0,     0],\n",
              "       [14188,    29,  7916, ...,     0,     0,     0],\n",
              "       ...,\n",
              "       [   62,   522,    90, ...,     0,     0,     0],\n",
              "       [   62,   522,    34, ...,     0,     0,     0],\n",
              "       [   62,   522,    53, ...,     0,     0,     0]], dtype=int32)"
            ]
          },
          "metadata": {},
          "execution_count": 18
        }
      ],
      "source": [
        "pad_seq"
      ]
    },
    {
      "cell_type": "code",
      "execution_count": 19,
      "metadata": {
        "id": "Yq_6RWQSjVXw"
      },
      "outputs": [],
      "source": [
        "x_train,x_test,y_train,y_test=train_test_split(pad_seq,data.sentiment,test_size=0.25,stratify=data.sentiment)"
      ]
    },
    {
      "cell_type": "code",
      "execution_count": 20,
      "metadata": {
        "colab": {
          "base_uri": "https://localhost:8080/"
        },
        "id": "xD_b3lSsjW9P",
        "outputId": "80c135a3-f037-4442-bf55-d2fc68f5ab9f"
      },
      "outputs": [
        {
          "output_type": "execute_result",
          "data": {
            "text/plain": [
              "(272104, 100)"
            ]
          },
          "metadata": {},
          "execution_count": 20
        }
      ],
      "source": [
        "x_train.shape"
      ]
    },
    {
      "cell_type": "code",
      "execution_count": 21,
      "metadata": {
        "colab": {
          "base_uri": "https://localhost:8080/"
        },
        "id": "D3qFEsSDjZi3",
        "outputId": "60f78bbf-ee63-4055-bd3f-5dd990fc8566"
      },
      "outputs": [
        {
          "output_type": "execute_result",
          "data": {
            "text/plain": [
              "(90702, 100)"
            ]
          },
          "metadata": {},
          "execution_count": 21
        }
      ],
      "source": [
        "x_test.shape"
      ]
    },
    {
      "cell_type": "code",
      "execution_count": 22,
      "metadata": {
        "id": "QGg2GGqQja38"
      },
      "outputs": [],
      "source": [
        "from gensim.models import FastText"
      ]
    },
    {
      "cell_type": "code",
      "execution_count": 23,
      "metadata": {
        "id": "yMOFtOdDjfCm"
      },
      "outputs": [],
      "source": [
        "modelf=FastText.load('/content/drive/MyDrive/Colab Notebooks/Fasttext_model2')"
      ]
    },
    {
      "cell_type": "markdown",
      "metadata": {
        "id": "0sa4bIgojipP"
      },
      "source": [
        "### Generating word embeddings with FASTTEXT"
      ]
    },
    {
      "cell_type": "code",
      "execution_count": 24,
      "metadata": {
        "id": "WOTDpeJbjgb6"
      },
      "outputs": [],
      "source": [
        "embedding_matrix=np.zeros((vocabulary_size,100))\n",
        "for word,i in tokenizer.word_index.items():\n",
        "  if word in modelf.wv:\n",
        "    embedding_matrix[i]=modelf.wv[word]\n"
      ]
    },
    {
      "cell_type": "code",
      "execution_count": 25,
      "metadata": {
        "colab": {
          "base_uri": "https://localhost:8080/"
        },
        "id": "itgkwvR2jkwI",
        "outputId": "e4befa95-786e-4a2a-b6e1-abf911c036dd"
      },
      "outputs": [
        {
          "output_type": "execute_result",
          "data": {
            "text/plain": [
              "array([-0.05843591, -0.34096628, -0.91325855, -0.44902545,  0.06130463,\n",
              "       -0.429203  ,  0.58045423,  0.05346946, -0.13164623, -0.5473678 ,\n",
              "       -0.3240666 ,  0.270965  ,  0.26555505, -0.27948517,  0.2601419 ,\n",
              "       -0.2623356 , -0.1392521 ,  0.21500042, -0.48749638,  0.09647668,\n",
              "        0.7220927 ,  0.32468572,  0.05849307, -0.52573866,  0.06253142,\n",
              "       -0.03097827,  0.0120508 , -0.23107259,  0.2393989 , -0.26035473,\n",
              "        0.20316839,  0.3148518 ,  0.43808916, -0.21598192,  0.1593785 ,\n",
              "        0.6419307 , -0.27310532,  0.12018342, -0.6400227 ,  0.1284779 ,\n",
              "        0.5414073 ,  0.12494288,  0.3508112 , -0.37819782, -0.07378837,\n",
              "        0.21322623, -0.0197391 ,  0.2560009 ,  0.26659703, -0.16103306,\n",
              "        0.30423552,  0.01076972, -0.06244149,  0.5317932 , -0.36071107,\n",
              "        0.13927753, -0.18428026,  0.2847531 ,  0.0118041 ,  0.4975654 ,\n",
              "       -0.02323597,  0.0077946 ,  0.11051185,  0.67663443,  0.41309294,\n",
              "       -0.17136033, -0.00404761,  0.1232084 , -0.14446501,  0.19184345,\n",
              "        0.36732584,  0.10042635,  0.00564826,  0.506244  ,  0.24188145,\n",
              "       -0.3921309 ,  0.3014159 , -0.02975624, -0.3145868 , -0.37772352,\n",
              "        0.26449046,  0.23041801, -0.17267407,  0.616107  , -0.3526996 ,\n",
              "       -0.29096302, -0.2617163 , -0.43800843, -0.0903971 , -0.27305037,\n",
              "       -0.06110699,  0.5938998 , -0.17308027, -0.07306217, -0.39275607,\n",
              "       -0.06584934, -0.16800576, -0.4194914 , -0.5694926 ,  0.01157726],\n",
              "      dtype=float32)"
            ]
          },
          "metadata": {},
          "execution_count": 25
        }
      ],
      "source": [
        "modelf.wv['birth']"
      ]
    },
    {
      "cell_type": "markdown",
      "metadata": {
        "id": "I6CGuCaCjrUw"
      },
      "source": [
        "## LSTM without balancing with FastText\""
      ]
    },
    {
      "cell_type": "code",
      "execution_count": null,
      "metadata": {
        "colab": {
          "base_uri": "https://localhost:8080/"
        },
        "id": "07EReIRijnmY",
        "outputId": "53afda9c-2bc4-4932-c591-fd4a113e545f"
      },
      "outputs": [
        {
          "name": "stderr",
          "output_type": "stream",
          "text": [
            "WARNING:absl:`lr` is deprecated in Keras optimizer, please use `learning_rate` or use the legacy optimizer, e.g.,tf.keras.optimizers.legacy.Adam.\n"
          ]
        },
        {
          "name": "stdout",
          "output_type": "stream",
          "text": [
            "Model: \"sequential\"\n",
            "_________________________________________________________________\n",
            " Layer (type)                Output Shape              Param #   \n",
            "=================================================================\n",
            " embedding (Embedding)       (None, 100, 100)          8783700   \n",
            "                                                                 \n",
            " spatial_dropout1d (Spatial  (None, 100, 100)          0         \n",
            " Dropout1D)                                                      \n",
            "                                                                 \n",
            " lstm (LSTM)                 (None, 128)               117248    \n",
            "                                                                 \n",
            " dense (Dense)               (None, 3)                 387       \n",
            "                                                                 \n",
            "=================================================================\n",
            "Total params: 8901335 (33.96 MB)\n",
            "Trainable params: 117635 (459.51 KB)\n",
            "Non-trainable params: 8783700 (33.51 MB)\n",
            "_________________________________________________________________\n"
          ]
        }
      ],
      "source": [
        "model1=Sequential()\n",
        "model1.add(Embedding(input_dim=vocabulary_size,output_dim=100,input_length=max_tokens,weights=[embedding_matrix],trainable=False))\n",
        "model1.add(SpatialDropout1D(0.1))\n",
        "model1.add(LSTM(units=128,activation='tanh'))\n",
        "#output layer\n",
        "model1.add(Dense(3,activation='softmax'))\n",
        "optimizer=Adam(lr=1e-3)\n",
        "model1.compile(loss='sparse_categorical_crossentropy',optimizer=optimizer,metrics=['accuracy'])\n",
        "model1.summary()"
      ]
    },
    {
      "cell_type": "code",
      "execution_count": null,
      "metadata": {
        "colab": {
          "background_save": true,
          "base_uri": "https://localhost:8080/"
        },
        "id": "Mct1IJMPjvvC",
        "outputId": "7cf98f6f-47e6-471c-acac-8c55a2c63e82"
      },
      "outputs": [
        {
          "name": "stdout",
          "output_type": "stream",
          "text": [
            "Epoch 1/60\n",
            "2722/2722 [==============================] - 36s 10ms/step - loss: 0.9932 - accuracy: 0.4924 - val_loss: 0.9085 - val_accuracy: 0.5972\n",
            "Epoch 2/60\n",
            "2722/2722 [==============================] - 26s 10ms/step - loss: 0.8247 - accuracy: 0.6511 - val_loss: 0.7767 - val_accuracy: 0.6784\n",
            "Epoch 3/60\n",
            "2722/2722 [==============================] - 26s 9ms/step - loss: 0.7637 - accuracy: 0.6823 - val_loss: 0.7406 - val_accuracy: 0.6921\n",
            "Epoch 4/60\n",
            "2722/2722 [==============================] - 25s 9ms/step - loss: 0.7340 - accuracy: 0.6954 - val_loss: 0.7229 - val_accuracy: 0.6999\n",
            "Epoch 5/60\n",
            "2722/2722 [==============================] - 27s 10ms/step - loss: 0.7145 - accuracy: 0.7033 - val_loss: 0.7140 - val_accuracy: 0.7016\n",
            "Epoch 6/60\n",
            "2722/2722 [==============================] - 25s 9ms/step - loss: 0.6985 - accuracy: 0.7099 - val_loss: 0.7045 - val_accuracy: 0.7060\n",
            "Epoch 7/60\n",
            "2722/2722 [==============================] - 27s 10ms/step - loss: 0.6848 - accuracy: 0.7163 - val_loss: 0.7004 - val_accuracy: 0.7124\n",
            "Epoch 8/60\n",
            "2722/2722 [==============================] - 26s 10ms/step - loss: 0.6739 - accuracy: 0.7209 - val_loss: 0.6901 - val_accuracy: 0.7149\n",
            "Epoch 9/60\n",
            "2722/2722 [==============================] - 26s 9ms/step - loss: 0.6610 - accuracy: 0.7262 - val_loss: 0.6811 - val_accuracy: 0.7191\n",
            "Epoch 10/60\n",
            "2722/2722 [==============================] - 25s 9ms/step - loss: 0.6504 - accuracy: 0.7312 - val_loss: 0.6831 - val_accuracy: 0.7185\n",
            "Epoch 11/60\n",
            "2722/2722 [==============================] - 26s 9ms/step - loss: 0.6414 - accuracy: 0.7356 - val_loss: 0.6827 - val_accuracy: 0.7200\n",
            "Epoch 12/60\n",
            "2722/2722 [==============================] - 27s 10ms/step - loss: 0.6319 - accuracy: 0.7395 - val_loss: 0.6749 - val_accuracy: 0.7250\n",
            "Epoch 13/60\n",
            "2722/2722 [==============================] - 25s 9ms/step - loss: 0.6230 - accuracy: 0.7438 - val_loss: 0.6739 - val_accuracy: 0.7259\n",
            "Epoch 14/60\n",
            "2722/2722 [==============================] - 27s 10ms/step - loss: 0.6161 - accuracy: 0.7462 - val_loss: 0.6747 - val_accuracy: 0.7230\n",
            "Epoch 15/60\n",
            "2722/2722 [==============================] - 25s 9ms/step - loss: 0.6079 - accuracy: 0.7491 - val_loss: 0.6816 - val_accuracy: 0.7252\n",
            "Epoch 16/60\n",
            "2722/2722 [==============================] - 27s 10ms/step - loss: 0.6006 - accuracy: 0.7529 - val_loss: 0.6688 - val_accuracy: 0.7272\n",
            "Epoch 17/60\n",
            "2722/2722 [==============================] - 26s 9ms/step - loss: 0.5947 - accuracy: 0.7553 - val_loss: 0.6669 - val_accuracy: 0.7297\n",
            "Epoch 18/60\n",
            "2722/2722 [==============================] - 27s 10ms/step - loss: 0.5889 - accuracy: 0.7580 - val_loss: 0.6725 - val_accuracy: 0.7302\n",
            "Epoch 19/60\n",
            "2722/2722 [==============================] - 27s 10ms/step - loss: 0.5832 - accuracy: 0.7607 - val_loss: 0.6704 - val_accuracy: 0.7288\n",
            "Epoch 20/60\n",
            "2722/2722 [==============================] - 25s 9ms/step - loss: 0.5774 - accuracy: 0.7625 - val_loss: 0.6803 - val_accuracy: 0.7266\n",
            "Epoch 21/60\n",
            "2722/2722 [==============================] - 27s 10ms/step - loss: 0.5735 - accuracy: 0.7651 - val_loss: 0.6726 - val_accuracy: 0.7298\n",
            "Epoch 22/60\n",
            "2722/2722 [==============================] - 27s 10ms/step - loss: 0.5674 - accuracy: 0.7674 - val_loss: 0.6738 - val_accuracy: 0.7299\n",
            "Epoch 23/60\n",
            "2722/2722 [==============================] - 27s 10ms/step - loss: 0.5647 - accuracy: 0.7689 - val_loss: 0.6721 - val_accuracy: 0.7311\n",
            "Epoch 24/60\n",
            "2722/2722 [==============================] - 26s 10ms/step - loss: 0.5604 - accuracy: 0.7703 - val_loss: 0.6663 - val_accuracy: 0.7328\n",
            "Epoch 25/60\n",
            "2722/2722 [==============================] - 26s 10ms/step - loss: 0.5561 - accuracy: 0.7719 - val_loss: 0.6684 - val_accuracy: 0.7323\n",
            "Epoch 26/60\n",
            "2722/2722 [==============================] - 25s 9ms/step - loss: 0.5533 - accuracy: 0.7741 - val_loss: 0.6789 - val_accuracy: 0.7299\n",
            "Epoch 27/60\n",
            "2722/2722 [==============================] - 25s 9ms/step - loss: 0.5499 - accuracy: 0.7748 - val_loss: 0.6726 - val_accuracy: 0.7335\n",
            "Epoch 28/60\n",
            "2722/2722 [==============================] - 26s 10ms/step - loss: 0.5472 - accuracy: 0.7764 - val_loss: 0.6679 - val_accuracy: 0.7338\n",
            "Epoch 29/60\n",
            "2722/2722 [==============================] - 26s 10ms/step - loss: 0.5440 - accuracy: 0.7780 - val_loss: 0.6795 - val_accuracy: 0.7340\n",
            "Epoch 30/60\n",
            "2722/2722 [==============================] - 25s 9ms/step - loss: 0.5416 - accuracy: 0.7793 - val_loss: 0.6856 - val_accuracy: 0.7329\n",
            "Epoch 31/60\n",
            "2722/2722 [==============================] - 27s 10ms/step - loss: 0.5383 - accuracy: 0.7804 - val_loss: 0.6742 - val_accuracy: 0.7362\n",
            "Epoch 32/60\n",
            "2722/2722 [==============================] - 26s 10ms/step - loss: 0.5366 - accuracy: 0.7811 - val_loss: 0.6709 - val_accuracy: 0.7357\n",
            "Epoch 33/60\n",
            "2722/2722 [==============================] - 27s 10ms/step - loss: 0.5331 - accuracy: 0.7824 - val_loss: 0.6856 - val_accuracy: 0.7368\n",
            "Epoch 34/60\n",
            "2722/2722 [==============================] - 26s 9ms/step - loss: 0.5323 - accuracy: 0.7829 - val_loss: 0.6806 - val_accuracy: 0.7330\n",
            "Epoch 35/60\n",
            "2722/2722 [==============================] - 25s 9ms/step - loss: 0.5303 - accuracy: 0.7842 - val_loss: 0.6780 - val_accuracy: 0.7370\n",
            "Epoch 36/60\n",
            "2722/2722 [==============================] - 28s 10ms/step - loss: 0.5280 - accuracy: 0.7846 - val_loss: 0.6729 - val_accuracy: 0.7395\n",
            "Epoch 37/60\n",
            "2722/2722 [==============================] - 26s 10ms/step - loss: 0.5264 - accuracy: 0.7859 - val_loss: 0.6877 - val_accuracy: 0.7378\n",
            "Epoch 38/60\n",
            "2722/2722 [==============================] - 27s 10ms/step - loss: 0.5254 - accuracy: 0.7857 - val_loss: 0.6812 - val_accuracy: 0.7365\n",
            "Epoch 39/60\n",
            "2722/2722 [==============================] - 27s 10ms/step - loss: 0.5220 - accuracy: 0.7874 - val_loss: 0.6839 - val_accuracy: 0.7365\n",
            "Epoch 40/60\n",
            "2722/2722 [==============================] - 25s 9ms/step - loss: 0.5213 - accuracy: 0.7876 - val_loss: 0.6732 - val_accuracy: 0.7335\n",
            "Epoch 41/60\n",
            "2722/2722 [==============================] - 26s 10ms/step - loss: 0.5200 - accuracy: 0.7881 - val_loss: 0.6816 - val_accuracy: 0.7373\n",
            "Epoch 42/60\n",
            "2722/2722 [==============================] - 26s 10ms/step - loss: 0.5184 - accuracy: 0.7893 - val_loss: 0.6679 - val_accuracy: 0.7377\n",
            "Epoch 43/60\n",
            "2722/2722 [==============================] - 27s 10ms/step - loss: 0.5170 - accuracy: 0.7902 - val_loss: 0.6737 - val_accuracy: 0.7387\n",
            "Epoch 44/60\n",
            "2722/2722 [==============================] - 27s 10ms/step - loss: 0.5158 - accuracy: 0.7903 - val_loss: 0.6815 - val_accuracy: 0.7401\n",
            "Epoch 45/60\n",
            "2722/2722 [==============================] - 25s 9ms/step - loss: 0.5132 - accuracy: 0.7919 - val_loss: 0.6774 - val_accuracy: 0.7401\n",
            "Epoch 46/60\n",
            "2722/2722 [==============================] - 26s 10ms/step - loss: 0.5116 - accuracy: 0.7918 - val_loss: 0.6725 - val_accuracy: 0.7397\n",
            "Epoch 47/60\n",
            "2722/2722 [==============================] - 28s 10ms/step - loss: 0.5113 - accuracy: 0.7918 - val_loss: 0.6810 - val_accuracy: 0.7386\n",
            "Epoch 48/60\n",
            "2722/2722 [==============================] - 26s 10ms/step - loss: 0.5112 - accuracy: 0.7920 - val_loss: 0.6937 - val_accuracy: 0.7380\n",
            "Epoch 49/60\n",
            "2722/2722 [==============================] - 27s 10ms/step - loss: 0.5163 - accuracy: 0.7903 - val_loss: 0.6818 - val_accuracy: 0.7374\n",
            "Epoch 50/60\n",
            "2722/2722 [==============================] - 26s 9ms/step - loss: 0.5086 - accuracy: 0.7938 - val_loss: 0.6802 - val_accuracy: 0.7372\n",
            "Epoch 51/60\n",
            "2722/2722 [==============================] - 26s 10ms/step - loss: 0.5079 - accuracy: 0.7937 - val_loss: 0.6753 - val_accuracy: 0.7397\n",
            "Epoch 52/60\n",
            "2722/2722 [==============================] - 28s 10ms/step - loss: 0.5076 - accuracy: 0.7943 - val_loss: 0.6713 - val_accuracy: 0.7410\n",
            "Epoch 53/60\n",
            "2722/2722 [==============================] - 28s 10ms/step - loss: 0.5053 - accuracy: 0.7945 - val_loss: 0.6902 - val_accuracy: 0.7352\n",
            "Epoch 54/60\n",
            "2722/2722 [==============================] - 27s 10ms/step - loss: 0.5050 - accuracy: 0.7952 - val_loss: 0.6789 - val_accuracy: 0.7394\n",
            "Epoch 55/60\n",
            "2722/2722 [==============================] - 27s 10ms/step - loss: 0.9894 - accuracy: 0.5014 - val_loss: 0.9993 - val_accuracy: 0.4932\n",
            "Epoch 56/60\n",
            "2722/2722 [==============================] - 25s 9ms/step - loss: 0.9753 - accuracy: 0.5193 - val_loss: 0.9498 - val_accuracy: 0.5545\n",
            "Epoch 57/60\n",
            "2722/2722 [==============================] - 27s 10ms/step - loss: 0.8946 - accuracy: 0.5979 - val_loss: 0.8407 - val_accuracy: 0.6380\n",
            "Epoch 58/60\n",
            "2722/2722 [==============================] - 26s 9ms/step - loss: 0.7653 - accuracy: 0.6794 - val_loss: 0.7346 - val_accuracy: 0.6978\n",
            "Epoch 59/60\n",
            "2722/2722 [==============================] - 27s 10ms/step - loss: 0.6256 - accuracy: 0.7429 - val_loss: 0.6875 - val_accuracy: 0.7266\n",
            "Epoch 60/60\n",
            "2722/2722 [==============================] - 25s 9ms/step - loss: 0.5427 - accuracy: 0.7787 - val_loss: 0.6847 - val_accuracy: 0.7367\n"
          ]
        }
      ],
      "source": [
        "history=model1.fit(x_train,y_train,epochs=60,verbose=1,validation_data=(x_test,y_test),batch_size=100)"
      ]
    },
    {
      "cell_type": "code",
      "execution_count": null,
      "metadata": {
        "colab": {
          "background_save": true
        },
        "id": "qf2BuGDbjzq3",
        "outputId": "35be61e7-0821-4eb1-94a9-4084c15755f0"
      },
      "outputs": [
        {
          "data": {
            "image/png": "[encoded data removed]",
            "text/plain": [
              "<Figure size 640x480 with 1 Axes>"
            ]
          },
          "metadata": {},
          "output_type": "display_data"
        },
        {
          "data": {
            "image/png": "[encoded data removed]",
            "text/plain": [
              "<Figure size 640x480 with 1 Axes>"
            ]
          },
          "metadata": {},
          "output_type": "display_data"
        }
      ],
      "source": [
        "import matplotlib.pyplot as plt\n",
        "\n",
        "# summarize history for accuracy\n",
        "plt.plot(history.history['accuracy'])\n",
        "plt.plot(history.history['val_accuracy'])\n",
        "plt.title('model accuracy')\n",
        "plt.ylabel('accuracy')\n",
        "plt.xlabel('epoch')\n",
        "plt.legend(['Train', 'Validation'], loc='upper left')\n",
        "plt.show()\n",
        "# summarize history for loss\n",
        "plt.plot(history.history['loss'])\n",
        "plt.plot(history.history['val_loss'])\n",
        "plt.title('model loss')\n",
        "plt.ylabel('loss')\n",
        "plt.xlabel('epoch')\n",
        "plt.legend(['Train', 'Validation'], loc='upper left')\n",
        "plt.show()"
      ]
    },
    {
      "cell_type": "code",
      "execution_count": null,
      "metadata": {
        "colab": {
          "background_save": true
        },
        "id": "sORZSIn91z14",
        "outputId": "36191b4f-7c61-4933-c96b-2d15dfac3a23"
      },
      "outputs": [
        {
          "name": "stdout",
          "output_type": "stream",
          "text": [
            "2835/2835 [==============================] - 13s 5ms/step - loss: 0.7785 - accuracy: 0.7543\n"
          ]
        }
      ],
      "source": [
        "loss,accuracy=model1.evaluate(x_test,y_test)"
      ]
    },
    {
      "cell_type": "code",
      "execution_count": null,
      "metadata": {
        "colab": {
          "background_save": true
        },
        "id": "VQVuphcn130s",
        "outputId": "df6e1235-339a-4d26-a0c1-5ad37635716f"
      },
      "outputs": [
        {
          "name": "stdout",
          "output_type": "stream",
          "text": [
            "Accuracy:0.7543053030967712\n",
            " Loss:0.7785294055938721\n"
          ]
        }
      ],
      "source": [
        "print(f\"Accuracy:{accuracy}\\n Loss:{loss}\")"
      ]
    },
    {
      "cell_type": "code",
      "execution_count": null,
      "metadata": {
        "colab": {
          "background_save": true
        },
        "id": "3zDEmyhK1621",
        "outputId": "d5aa7683-2513-4354-e968-d361acb244af"
      },
      "outputs": [
        {
          "name": "stdout",
          "output_type": "stream",
          "text": [
            "2835/2835 [==============================] - 10s 4ms/step\n"
          ]
        }
      ],
      "source": [
        "y_pred=model1.predict(x_test)"
      ]
    },
    {
      "cell_type": "code",
      "execution_count": null,
      "metadata": {
        "colab": {
          "background_save": true
        },
        "id": "SgqlOZdN2BVM",
        "outputId": "1c27e177-59d8-4876-ef64-8e8cfd4f4ac6"
      },
      "outputs": [
        {
          "data": {
            "image/png": "[encoded data removed]",
            "text/plain": [
              "<Figure size 800x600 with 1 Axes>"
            ]
          },
          "metadata": {},
          "output_type": "display_data"
        }
      ],
      "source": [
        "from sklearn.metrics import roc_curve, auc\n",
        "from sklearn.preprocessing import label_binarize\n",
        "import matplotlib.pyplot as plt\n",
        "\n",
        "# Binarize the true labels (y_test) for each class\n",
        "y_test_binarized = label_binarize(y_test, classes=[0, 1, 2])\n",
        "\n",
        "# Compute ROC curve and AUC for each class\n",
        "fpr = dict()\n",
        "tpr = dict()\n",
        "roc_auc = dict()\n",
        "num_classes = 3\n",
        "for i in range(num_classes):\n",
        "    fpr[i], tpr[i], _ = roc_curve(y_test_binarized[:, i], y_pred[:, i])\n",
        "    roc_auc[i] = auc(fpr[i], tpr[i])\n",
        "\n",
        "# Plot ROC curve for each class and the diagonal line\n",
        "plt.figure(figsize=(8, 6))\n",
        "for i in range(num_classes):\n",
        "    plt.plot(fpr[i], tpr[i], label=f'Class {i} (AUC = {roc_auc[i]:.2f})')\n",
        "\n",
        "# Plot diagonal line representing random guessing\n",
        "plt.plot([0, 1], [0, 1], color='navy', linestyle='--')\n",
        "\n",
        "plt.xlabel('False Positive Rate')\n",
        "plt.ylabel('True Positive Rate')\n",
        "plt.legend()\n",
        "plt.show()\n"
      ]
    },
    {
      "cell_type": "code",
      "execution_count": null,
      "metadata": {
        "colab": {
          "background_save": true
        },
        "id": "EoQLh3Jy2FEY"
      },
      "outputs": [],
      "source": [
        "y_pred=np.argmax(y_pred,axis=1)"
      ]
    },
    {
      "cell_type": "code",
      "execution_count": null,
      "metadata": {
        "colab": {
          "background_save": true
        },
        "id": "th1fMTXM2JMw",
        "outputId": "da1ffd2f-00a8-448e-ac61-fc6b5e46383a"
      },
      "outputs": [
        {
          "name": "stdout",
          "output_type": "stream",
          "text": [
            "              precision    recall  f1-score   support\n",
            "\n",
            "           0       0.79      0.77      0.78     34040\n",
            "           1       0.54      0.32      0.40     13072\n",
            "           2       0.76      0.88      0.81     43590\n",
            "\n",
            "    accuracy                           0.75     90702\n",
            "   macro avg       0.70      0.65      0.66     90702\n",
            "weighted avg       0.74      0.75      0.74     90702\n",
            "\n"
          ]
        }
      ],
      "source": [
        "# Generate the classification report\n",
        "report = classification_report(y_test, y_pred)\n",
        "print(report)"
      ]
    },
    {
      "cell_type": "code",
      "execution_count": null,
      "metadata": {
        "colab": {
          "background_save": true
        },
        "id": "IIqLax_I2LVE",
        "outputId": "cfbf1f4e-0f72-47da-a0d8-d79ef4299cc5"
      },
      "outputs": [
        {
          "name": "stdout",
          "output_type": "stream",
          "text": [
            "[[26116  1734  6190]\n",
            " [ 3183  4155  5734]\n",
            " [ 3659  1785 38146]]\n"
          ]
        }
      ],
      "source": [
        "cm=confusion_matrix(y_test,y_pred)\n",
        "print(cm)"
      ]
    },
    {
      "cell_type": "code",
      "execution_count": null,
      "metadata": {
        "colab": {
          "background_save": true
        },
        "id": "pYq1GqAi2QAG",
        "outputId": "f9c68e62-6152-4011-8f6c-51c2a0e2b1d4"
      },
      "outputs": [
        {
          "data": {
            "image/png": "[encoded data removed]",
            "text/plain": [
              "<Figure size 800x600 with 2 Axes>"
            ]
          },
          "metadata": {},
          "output_type": "display_data"
        }
      ],
      "source": [
        "class_names=['positve','negative','neutral']\n",
        "\n",
        "# Plot confusion matrix as a heatmap\n",
        "plt.figure(figsize=(8, 6))\n",
        "sns.set(font_scale=1.2)  # Adjust the font scale for better readability\n",
        "sns.heatmap(cm, annot=True, fmt='d', cmap='Blues',\n",
        "            xticklabels=class_names, yticklabels=class_names)\n",
        "\n",
        "# Customize labels, title, and axis ticks\n",
        "plt.xlabel('Predicted Labels')\n",
        "plt.ylabel('True Labels')\n",
        "plt.title('Confusion Matrix_LSTM_wB_F')\n",
        "plt.xticks(ticks=range(len(class_names)), labels=class_names, rotation=45)\n",
        "plt.yticks(ticks=range(len(class_names)), labels=class_names, rotation=0)\n",
        "\n",
        "plt.show()"
      ]
    },
    {
      "cell_type": "markdown",
      "metadata": {
        "id": "7jg2bh0ESm8l"
      },
      "source": [
        "## Bi_LSTM without Balancing and Fasttext"
      ]
    },
    {
      "cell_type": "code",
      "execution_count": null,
      "metadata": {
        "colab": {
          "background_save": true
        },
        "id": "jKbF36YTSpNa",
        "outputId": "6f3dc171-f93c-492a-dee0-f6e141099f5b"
      },
      "outputs": [
        {
          "name": "stderr",
          "output_type": "stream",
          "text": [
            "WARNING:absl:`lr` is deprecated in Keras optimizer, please use `learning_rate` or use the legacy optimizer, e.g.,tf.keras.optimizers.legacy.Adam.\n"
          ]
        },
        {
          "name": "stdout",
          "output_type": "stream",
          "text": [
            "Model: \"sequential_1\"\n",
            "_________________________________________________________________\n",
            " Layer (type)                Output Shape              Param #   \n",
            "=================================================================\n",
            " embedding_1 (Embedding)     (None, 100, 100)          8783700   \n",
            "                                                                 \n",
            " spatial_dropout1d_1 (Spati  (None, 100, 100)          0         \n",
            " alDropout1D)                                                    \n",
            "                                                                 \n",
            " bidirectional (Bidirection  (None, 500)               702000    \n",
            " al)                                                             \n",
            "                                                                 \n",
            " dense_1 (Dense)             (None, 3)                 1503      \n",
            "                                                                 \n",
            "=================================================================\n",
            "Total params: 9487203 (36.19 MB)\n",
            "Trainable params: 703503 (2.68 MB)\n",
            "Non-trainable params: 8783700 (33.51 MB)\n",
            "_________________________________________________________________\n"
          ]
        }
      ],
      "source": [
        "model=Sequential()\n",
        "model.add(Embedding(input_dim=vocabulary_size,output_dim=100,input_length=max_tokens,weights=[embedding_matrix],trainable=False))\n",
        "model.add(SpatialDropout1D(0.1))\n",
        "model.add(Bidirectional((LSTM(units=250,activation='tanh'))))\n",
        "#output layer\n",
        "model.add(Dense(3,activation='softmax'))\n",
        "optimizer=Adam(lr=1e-3)\n",
        "model.compile(loss='sparse_categorical_crossentropy',optimizer=optimizer,metrics=['accuracy'])\n",
        "model.summary()"
      ]
    },
    {
      "cell_type": "code",
      "execution_count": null,
      "metadata": {
        "colab": {
          "background_save": true
        },
        "id": "z5SFvOahSuwe",
        "outputId": "6a0c11f4-5017-4c61-caa8-9e2f9e265167"
      },
      "outputs": [
        {
          "name": "stdout",
          "output_type": "stream",
          "text": [
            "Epoch 1/60\n",
            "2722/2722 [==============================] - 56s 19ms/step - loss: 0.8396 - accuracy: 0.6358 - val_loss: 0.7858 - val_accuracy: 0.6620\n",
            "Epoch 2/60\n",
            "2722/2722 [==============================] - 49s 18ms/step - loss: 0.7683 - accuracy: 0.6749 - val_loss: 0.7521 - val_accuracy: 0.6843\n",
            "Epoch 3/60\n",
            "2722/2722 [==============================] - 43s 16ms/step - loss: 0.7392 - accuracy: 0.6899 - val_loss: 0.7238 - val_accuracy: 0.6976\n",
            "Epoch 4/60\n",
            "2722/2722 [==============================] - 49s 18ms/step - loss: 0.7171 - accuracy: 0.6998 - val_loss: 0.7169 - val_accuracy: 0.6986\n",
            "Epoch 5/60\n",
            "2722/2722 [==============================] - 48s 18ms/step - loss: 0.6994 - accuracy: 0.7075 - val_loss: 0.7043 - val_accuracy: 0.7071\n",
            "Epoch 6/60\n",
            "2722/2722 [==============================] - 48s 18ms/step - loss: 0.6838 - accuracy: 0.7153 - val_loss: 0.6958 - val_accuracy: 0.7108\n",
            "Epoch 7/60\n",
            "2722/2722 [==============================] - 43s 16ms/step - loss: 0.6698 - accuracy: 0.7211 - val_loss: 0.6888 - val_accuracy: 0.7147\n",
            "Epoch 8/60\n",
            "2722/2722 [==============================] - 47s 17ms/step - loss: 0.6566 - accuracy: 0.7270 - val_loss: 0.6870 - val_accuracy: 0.7154\n",
            "Epoch 9/60\n",
            "2722/2722 [==============================] - 47s 17ms/step - loss: 0.6443 - accuracy: 0.7330 - val_loss: 0.6871 - val_accuracy: 0.7174\n",
            "Epoch 10/60\n",
            "2722/2722 [==============================] - 47s 17ms/step - loss: 0.6330 - accuracy: 0.7381 - val_loss: 0.6840 - val_accuracy: 0.7186\n",
            "Epoch 11/60\n",
            "2722/2722 [==============================] - 47s 17ms/step - loss: 0.6219 - accuracy: 0.7424 - val_loss: 0.6897 - val_accuracy: 0.7180\n",
            "Epoch 12/60\n",
            "2722/2722 [==============================] - 47s 17ms/step - loss: 0.6111 - accuracy: 0.7474 - val_loss: 0.6813 - val_accuracy: 0.7225\n",
            "Epoch 13/60\n",
            "2722/2722 [==============================] - 47s 17ms/step - loss: 0.6008 - accuracy: 0.7525 - val_loss: 0.6817 - val_accuracy: 0.7230\n",
            "Epoch 14/60\n",
            "2722/2722 [==============================] - 47s 17ms/step - loss: 0.5924 - accuracy: 0.7557 - val_loss: 0.6837 - val_accuracy: 0.7236\n",
            "Epoch 15/60\n",
            "2722/2722 [==============================] - 47s 17ms/step - loss: 0.5833 - accuracy: 0.7605 - val_loss: 0.6844 - val_accuracy: 0.7227\n",
            "Epoch 16/60\n",
            "2722/2722 [==============================] - 47s 17ms/step - loss: 0.5745 - accuracy: 0.7634 - val_loss: 0.6889 - val_accuracy: 0.7254\n",
            "Epoch 17/60\n",
            "2722/2722 [==============================] - 43s 16ms/step - loss: 0.5674 - accuracy: 0.7664 - val_loss: 0.6877 - val_accuracy: 0.7250\n",
            "Epoch 18/60\n",
            "2722/2722 [==============================] - 47s 17ms/step - loss: 0.5612 - accuracy: 0.7699 - val_loss: 0.6862 - val_accuracy: 0.7280\n",
            "Epoch 19/60\n",
            "2722/2722 [==============================] - 47s 17ms/step - loss: 0.5546 - accuracy: 0.7728 - val_loss: 0.6860 - val_accuracy: 0.7281\n",
            "Epoch 20/60\n",
            "2722/2722 [==============================] - 47s 17ms/step - loss: 0.5484 - accuracy: 0.7756 - val_loss: 0.6963 - val_accuracy: 0.7280\n",
            "Epoch 21/60\n",
            "2722/2722 [==============================] - 47s 17ms/step - loss: 0.5424 - accuracy: 0.7782 - val_loss: 0.6913 - val_accuracy: 0.7269\n",
            "Epoch 22/60\n",
            "2722/2722 [==============================] - 47s 17ms/step - loss: 0.5383 - accuracy: 0.7803 - val_loss: 0.6928 - val_accuracy: 0.7286\n",
            "Epoch 23/60\n",
            "2722/2722 [==============================] - 47s 17ms/step - loss: 0.5326 - accuracy: 0.7826 - val_loss: 0.6978 - val_accuracy: 0.7284\n",
            "Epoch 24/60\n",
            "2722/2722 [==============================] - 47s 17ms/step - loss: 0.5290 - accuracy: 0.7842 - val_loss: 0.6979 - val_accuracy: 0.7297\n",
            "Epoch 25/60\n",
            "2722/2722 [==============================] - 47s 17ms/step - loss: 0.5240 - accuracy: 0.7865 - val_loss: 0.6952 - val_accuracy: 0.7305\n",
            "Epoch 26/60\n",
            "2722/2722 [==============================] - 47s 17ms/step - loss: 0.5211 - accuracy: 0.7874 - val_loss: 0.6987 - val_accuracy: 0.7293\n",
            "Epoch 27/60\n",
            "2722/2722 [==============================] - 42s 16ms/step - loss: 0.5172 - accuracy: 0.7891 - val_loss: 0.7032 - val_accuracy: 0.7318\n",
            "Epoch 28/60\n",
            "2722/2722 [==============================] - 42s 16ms/step - loss: 0.5121 - accuracy: 0.7922 - val_loss: 0.7059 - val_accuracy: 0.7318\n",
            "Epoch 29/60\n",
            "2722/2722 [==============================] - 43s 16ms/step - loss: 0.5078 - accuracy: 0.7930 - val_loss: 0.7074 - val_accuracy: 0.7323\n",
            "Epoch 30/60\n",
            "2722/2722 [==============================] - 47s 17ms/step - loss: 0.5056 - accuracy: 0.7941 - val_loss: 0.7104 - val_accuracy: 0.7316\n",
            "Epoch 31/60\n",
            "2722/2722 [==============================] - 48s 17ms/step - loss: 0.5030 - accuracy: 0.7954 - val_loss: 0.7129 - val_accuracy: 0.7330\n",
            "Epoch 32/60\n",
            "2722/2722 [==============================] - 47s 17ms/step - loss: 0.5017 - accuracy: 0.7958 - val_loss: 0.7050 - val_accuracy: 0.7345\n",
            "Epoch 33/60\n",
            "2722/2722 [==============================] - 47s 17ms/step - loss: 0.4976 - accuracy: 0.7975 - val_loss: 0.7109 - val_accuracy: 0.7329\n",
            "Epoch 34/60\n",
            "2722/2722 [==============================] - 48s 18ms/step - loss: 0.4958 - accuracy: 0.7982 - val_loss: 0.7106 - val_accuracy: 0.7350\n",
            "Epoch 35/60\n",
            "2722/2722 [==============================] - 43s 16ms/step - loss: 0.4937 - accuracy: 0.7989 - val_loss: 0.7207 - val_accuracy: 0.7337\n",
            "Epoch 36/60\n",
            "2722/2722 [==============================] - 48s 18ms/step - loss: 0.4895 - accuracy: 0.8008 - val_loss: 0.7144 - val_accuracy: 0.7341\n",
            "Epoch 37/60\n",
            "2722/2722 [==============================] - 43s 16ms/step - loss: 0.4883 - accuracy: 0.8017 - val_loss: 0.7205 - val_accuracy: 0.7329\n",
            "Epoch 38/60\n",
            "2722/2722 [==============================] - 48s 17ms/step - loss: 0.4871 - accuracy: 0.8016 - val_loss: 0.7186 - val_accuracy: 0.7339\n",
            "Epoch 39/60\n",
            "2722/2722 [==============================] - 43s 16ms/step - loss: 0.4850 - accuracy: 0.8030 - val_loss: 0.7244 - val_accuracy: 0.7335\n",
            "Epoch 40/60\n",
            "2722/2722 [==============================] - 43s 16ms/step - loss: 0.4831 - accuracy: 0.8042 - val_loss: 0.7287 - val_accuracy: 0.7342\n",
            "Epoch 41/60\n",
            "2722/2722 [==============================] - 43s 16ms/step - loss: 0.4804 - accuracy: 0.8056 - val_loss: 0.7306 - val_accuracy: 0.7342\n",
            "Epoch 42/60\n",
            "2722/2722 [==============================] - 43s 16ms/step - loss: 0.4794 - accuracy: 0.8054 - val_loss: 0.7237 - val_accuracy: 0.7339\n",
            "Epoch 43/60\n",
            "2722/2722 [==============================] - 47s 17ms/step - loss: 0.4773 - accuracy: 0.8062 - val_loss: 0.7287 - val_accuracy: 0.7360\n",
            "Epoch 44/60\n",
            "2722/2722 [==============================] - 43s 16ms/step - loss: 0.4767 - accuracy: 0.8068 - val_loss: 0.7244 - val_accuracy: 0.7346\n",
            "Epoch 45/60\n",
            "2722/2722 [==============================] - 43s 16ms/step - loss: 0.4733 - accuracy: 0.8082 - val_loss: 0.7349 - val_accuracy: 0.7358\n",
            "Epoch 46/60\n",
            "2722/2722 [==============================] - 43s 16ms/step - loss: 0.4728 - accuracy: 0.8079 - val_loss: 0.7337 - val_accuracy: 0.7351\n",
            "Epoch 47/60\n",
            "2722/2722 [==============================] - 47s 17ms/step - loss: 0.4707 - accuracy: 0.8094 - val_loss: 0.7331 - val_accuracy: 0.7343\n",
            "Epoch 48/60\n",
            "2722/2722 [==============================] - 43s 16ms/step - loss: 0.4703 - accuracy: 0.8091 - val_loss: 0.7344 - val_accuracy: 0.7365\n",
            "Epoch 49/60\n",
            "2722/2722 [==============================] - 43s 16ms/step - loss: 0.4680 - accuracy: 0.8101 - val_loss: 0.7364 - val_accuracy: 0.7374\n",
            "Epoch 50/60\n",
            "2722/2722 [==============================] - 48s 17ms/step - loss: 0.4688 - accuracy: 0.8103 - val_loss: 0.7368 - val_accuracy: 0.7365\n",
            "Epoch 51/60\n",
            "2722/2722 [==============================] - 43s 16ms/step - loss: 0.4648 - accuracy: 0.8112 - val_loss: 0.7394 - val_accuracy: 0.7325\n",
            "Epoch 52/60\n",
            "2722/2722 [==============================] - 42s 16ms/step - loss: 0.4649 - accuracy: 0.8109 - val_loss: 0.7332 - val_accuracy: 0.7378\n",
            "Epoch 53/60\n",
            "2722/2722 [==============================] - 42s 16ms/step - loss: 0.4644 - accuracy: 0.8119 - val_loss: 0.7391 - val_accuracy: 0.7368\n",
            "Epoch 54/60\n",
            "2722/2722 [==============================] - 47s 17ms/step - loss: 0.4625 - accuracy: 0.8124 - val_loss: 0.7373 - val_accuracy: 0.7343\n",
            "Epoch 55/60\n",
            "2722/2722 [==============================] - 42s 16ms/step - loss: 0.4608 - accuracy: 0.8138 - val_loss: 0.7466 - val_accuracy: 0.7358\n",
            "Epoch 56/60\n",
            "2722/2722 [==============================] - 42s 16ms/step - loss: 0.4594 - accuracy: 0.8138 - val_loss: 0.7458 - val_accuracy: 0.7384\n",
            "Epoch 57/60\n",
            "2722/2722 [==============================] - 42s 16ms/step - loss: 0.4589 - accuracy: 0.8133 - val_loss: 0.7461 - val_accuracy: 0.7346\n",
            "Epoch 58/60\n",
            "2722/2722 [==============================] - 43s 16ms/step - loss: 0.4568 - accuracy: 0.8155 - val_loss: 0.7487 - val_accuracy: 0.7374\n",
            "Epoch 59/60\n",
            "2722/2722 [==============================] - 43s 16ms/step - loss: 0.4563 - accuracy: 0.8151 - val_loss: 0.7420 - val_accuracy: 0.7379\n",
            "Epoch 60/60\n",
            "2722/2722 [==============================] - 47s 17ms/step - loss: 0.4543 - accuracy: 0.8163 - val_loss: 0.7473 - val_accuracy: 0.7377\n"
          ]
        }
      ],
      "source": [
        "history=model.fit(x_train,y_train,epochs=60,verbose=1,validation_data=(x_test,y_test),batch_size=200)"
      ]
    },
    {
      "cell_type": "code",
      "execution_count": null,
      "metadata": {
        "colab": {
          "background_save": true
        },
        "id": "uHvGumH6SzC0",
        "outputId": "31bada49-b0c3-4f28-b1e3-9e2fb3e756f8"
      },
      "outputs": [
        {
          "data": {
            "image/png": "[encoded data removed]",
            "text/plain": [
              "<Figure size 640x480 with 1 Axes>"
            ]
          },
          "metadata": {},
          "output_type": "display_data"
        },
        {
          "data": {
            "image/png": "[encoded data removed]",
            "text/plain": [
              "<Figure size 640x480 with 1 Axes>"
            ]
          },
          "metadata": {},
          "output_type": "display_data"
        }
      ],
      "source": [
        "import matplotlib.pyplot as plt\n",
        "\n",
        "# summarize history for accuracy\n",
        "plt.plot(history.history['accuracy'])\n",
        "plt.plot(history.history['val_accuracy'])\n",
        "plt.title('model accuracy')\n",
        "plt.ylabel('accuracy')\n",
        "plt.xlabel('epoch')\n",
        "plt.legend(['Train', 'Validation'], loc='upper left')\n",
        "plt.show()\n",
        "# summarize history for loss\n",
        "plt.plot(history.history['loss'])\n",
        "plt.plot(history.history['val_loss'])\n",
        "plt.title('model loss')\n",
        "plt.ylabel('loss')\n",
        "plt.xlabel('epoch')\n",
        "plt.legend(['Train', 'Validation'], loc='upper left')\n",
        "plt.show()"
      ]
    },
    {
      "cell_type": "code",
      "execution_count": null,
      "metadata": {
        "colab": {
          "background_save": true
        },
        "id": "nC7EOJYxS4Q0",
        "outputId": "09a3bf72-1a47-4533-b16e-8098f9031251"
      },
      "outputs": [
        {
          "name": "stdout",
          "output_type": "stream",
          "text": [
            "2835/2835 [==============================] - 15s 5ms/step - loss: 0.7473 - accuracy: 0.7377\n"
          ]
        }
      ],
      "source": [
        "loss,accuracy=model.evaluate(x_test,y_test)"
      ]
    },
    {
      "cell_type": "code",
      "execution_count": null,
      "metadata": {
        "colab": {
          "background_save": true
        },
        "id": "qx5MvVQrS7TF",
        "outputId": "eca0424b-7967-446a-ea5e-81ebe9184a42"
      },
      "outputs": [
        {
          "name": "stdout",
          "output_type": "stream",
          "text": [
            "Accuracy:0.7376904487609863\n",
            " Loss:0.7473205327987671\n"
          ]
        }
      ],
      "source": [
        "print(f\"Accuracy:{accuracy}\\n Loss:{loss}\")"
      ]
    },
    {
      "cell_type": "code",
      "execution_count": null,
      "metadata": {
        "colab": {
          "background_save": true
        },
        "id": "J7oLk4x-S-QM",
        "outputId": "765c4c37-8e55-4a2d-92e6-d3b29439d102"
      },
      "outputs": [
        {
          "name": "stdout",
          "output_type": "stream",
          "text": [
            "2835/2835 [==============================] - 13s 5ms/step\n"
          ]
        }
      ],
      "source": [
        "y_pred=model.predict(x_test)"
      ]
    },
    {
      "cell_type": "code",
      "execution_count": null,
      "metadata": {
        "colab": {
          "background_save": true
        },
        "id": "XsVPY1rhTA55",
        "outputId": "cfb9404c-d03c-4d14-b7d6-14e2c2d56218"
      },
      "outputs": [
        {
          "data": {
            "image/png": "[encoded data removed]",
            "text/plain": [
              "<Figure size 800x600 with 1 Axes>"
            ]
          },
          "metadata": {},
          "output_type": "display_data"
        }
      ],
      "source": [
        "from sklearn.metrics import roc_curve, auc\n",
        "from sklearn.preprocessing import label_binarize\n",
        "import matplotlib.pyplot as plt\n",
        "\n",
        "# Binarize the true labels (y_test) for each class\n",
        "y_test_binarized = label_binarize(y_test, classes=[0, 1, 2])\n",
        "\n",
        "# Compute ROC curve and AUC for each class\n",
        "fpr = dict()\n",
        "tpr = dict()\n",
        "roc_auc = dict()\n",
        "num_classes = 3\n",
        "for i in range(num_classes):\n",
        "    fpr[i], tpr[i], _ = roc_curve(y_test_binarized[:, i], y_pred[:, i])\n",
        "    roc_auc[i] = auc(fpr[i], tpr[i])\n",
        "\n",
        "# Plot ROC curve for each class and the diagonal line\n",
        "plt.figure(figsize=(8, 6))\n",
        "for i in range(num_classes):\n",
        "    plt.plot(fpr[i], tpr[i], label=f'Class {i} (AUC = {roc_auc[i]:.2f})')\n",
        "\n",
        "# Plot diagonal line representing random guessing\n",
        "plt.plot([0, 1], [0, 1], color='navy', linestyle='--')\n",
        "\n",
        "plt.xlabel('False Positive Rate')\n",
        "plt.ylabel('True Positive Rate')\n",
        "plt.legend()\n",
        "plt.show()\n"
      ]
    },
    {
      "cell_type": "code",
      "execution_count": null,
      "metadata": {
        "colab": {
          "background_save": true
        },
        "id": "dPHZIeBdTC-Z"
      },
      "outputs": [],
      "source": [
        "y_pred=np.argmax(y_pred,axis=1)"
      ]
    },
    {
      "cell_type": "code",
      "execution_count": null,
      "metadata": {
        "colab": {
          "background_save": true
        },
        "id": "bJ6i05YDTKpn",
        "outputId": "bde349c4-11ed-4d17-d237-8a10e9b98d94"
      },
      "outputs": [
        {
          "name": "stdout",
          "output_type": "stream",
          "text": [
            "              precision    recall  f1-score   support\n",
            "\n",
            "           0       0.77      0.76      0.76     34040\n",
            "           1       0.48      0.27      0.35     13072\n",
            "           2       0.75      0.86      0.80     43590\n",
            "\n",
            "    accuracy                           0.74     90702\n",
            "   macro avg       0.67      0.63      0.64     90702\n",
            "weighted avg       0.72      0.74      0.72     90702\n",
            "\n"
          ]
        }
      ],
      "source": [
        "# Generate the classification report\n",
        "report = classification_report(y_test, y_pred)\n",
        "print(report)"
      ]
    },
    {
      "cell_type": "code",
      "execution_count": null,
      "metadata": {
        "colab": {
          "background_save": true
        },
        "id": "zRVWzUblTMrO",
        "outputId": "2aee8864-432f-45d7-d5a6-9891761b3efa"
      },
      "outputs": [
        {
          "name": "stdout",
          "output_type": "stream",
          "text": [
            "[[25781  1885  6374]\n",
            " [ 3621  3552  5899]\n",
            " [ 4061  1952 37577]]\n"
          ]
        }
      ],
      "source": [
        "cm=confusion_matrix(y_test,y_pred)\n",
        "print(cm)"
      ]
    },
    {
      "cell_type": "code",
      "execution_count": null,
      "metadata": {
        "colab": {
          "background_save": true
        },
        "id": "ZuMOM6PSTQWd",
        "outputId": "5f604cf1-a1e6-41fb-c801-86be2dc4a89a"
      },
      "outputs": [
        {
          "data": {
            "image/png": "[encoded data removed]",
            "text/plain": [
              "<Figure size 800x600 with 2 Axes>"
            ]
          },
          "metadata": {},
          "output_type": "display_data"
        }
      ],
      "source": [
        "class_names=['positve','negative','neutral']\n",
        "\n",
        "# Plot confusion matrix as a heatmap\n",
        "plt.figure(figsize=(8, 6))\n",
        "sns.set(font_scale=1.2)  # Adjust the font scale for better readability\n",
        "sns.heatmap(cm, annot=True, fmt='d', cmap='Blues',\n",
        "            xticklabels=class_names, yticklabels=class_names)\n",
        "\n",
        "# Customize labels, title, and axis ticks\n",
        "plt.xlabel('Predicted Labels')\n",
        "plt.ylabel('True Labels')\n",
        "plt.title('Confusion Matrix_Bi-LSTM_wB_F')\n",
        "plt.xticks(ticks=range(len(class_names)), labels=class_names, rotation=45)\n",
        "plt.yticks(ticks=range(len(class_names)), labels=class_names, rotation=0)\n",
        "\n",
        "plt.show()"
      ]
    },
    {
      "cell_type": "code",
      "execution_count": null,
      "metadata": {
        "colab": {
          "background_save": true
        },
        "id": "qaFXost7TSlt"
      },
      "outputs": [],
      "source": []
    },
    {
      "cell_type": "markdown",
      "metadata": {
        "id": "8R9UH8p2ThfQ"
      },
      "source": [
        "### LSTM+GRU withou balancing and Fasttext"
      ]
    },
    {
      "cell_type": "code",
      "execution_count": null,
      "metadata": {
        "colab": {
          "background_save": true
        },
        "id": "MgZvdBqdTh0P",
        "outputId": "86f745db-1e73-4e16-a24e-e1446f1184b8"
      },
      "outputs": [
        {
          "name": "stderr",
          "output_type": "stream",
          "text": [
            "WARNING:absl:`lr` is deprecated in Keras optimizer, please use `learning_rate` or use the legacy optimizer, e.g.,tf.keras.optimizers.legacy.Adam.\n"
          ]
        },
        {
          "name": "stdout",
          "output_type": "stream",
          "text": [
            "Model: \"sequential_4\"\n",
            "_________________________________________________________________\n",
            " Layer (type)                Output Shape              Param #   \n",
            "=================================================================\n",
            " embedding_4 (Embedding)     (None, 100, 100)          8783700   \n",
            "                                                                 \n",
            " spatial_dropout1d_4 (Spati  (None, 100, 100)          0         \n",
            " alDropout1D)                                                    \n",
            "                                                                 \n",
            " lstm_4 (LSTM)               (None, 100, 200)          240800    \n",
            "                                                                 \n",
            " gru (GRU)                   (None, 200)               241200    \n",
            "                                                                 \n",
            " dense_4 (Dense)             (None, 3)                 603       \n",
            "                                                                 \n",
            "=================================================================\n",
            "Total params: 9266303 (35.35 MB)\n",
            "Trainable params: 482603 (1.84 MB)\n",
            "Non-trainable params: 8783700 (33.51 MB)\n",
            "_________________________________________________________________\n"
          ]
        }
      ],
      "source": [
        "modell=Sequential()\n",
        "modell.add(Embedding(input_dim=vocabulary_size,output_dim=100,input_length=max_tokens,weights=[embedding_matrix],trainable=False))\n",
        "modell.add(SpatialDropout1D(0.1))\n",
        "modell.add(LSTM(units=200,activation='tanh',return_sequences=True))\n",
        "modell.add(GRU(units=200,activation='tanh'))\n",
        "modell.add(Dense(3,activation='softmax'))\n",
        "optimizer=Adam(lr=1e-3)\n",
        "modell.compile(loss='sparse_categorical_crossentropy',optimizer=optimizer,metrics=['accuracy'])\n",
        "modell.summary()"
      ]
    },
    {
      "cell_type": "code",
      "execution_count": null,
      "metadata": {
        "colab": {
          "background_save": true
        },
        "id": "nxpj3X9uTkwQ",
        "outputId": "b1e3abe6-9331-4380-8a32-bf2df04b2f92"
      },
      "outputs": [
        {
          "name": "stdout",
          "output_type": "stream",
          "text": [
            "Epoch 1/60\n",
            "2722/2722 [==============================] - 62s 17ms/step - loss: 0.9141 - accuracy: 0.5711 - val_loss: 0.7917 - val_accuracy: 0.6645\n",
            "Epoch 2/60\n",
            "2722/2722 [==============================] - 46s 17ms/step - loss: 0.7685 - accuracy: 0.6771 - val_loss: 0.7452 - val_accuracy: 0.6862\n",
            "Epoch 3/60\n",
            "2722/2722 [==============================] - 47s 17ms/step - loss: 0.7276 - accuracy: 0.6962 - val_loss: 0.7227 - val_accuracy: 0.7003\n",
            "Epoch 4/60\n",
            "2722/2722 [==============================] - 47s 17ms/step - loss: 0.7038 - accuracy: 0.7077 - val_loss: 0.6982 - val_accuracy: 0.7101\n",
            "Epoch 5/60\n",
            "2722/2722 [==============================] - 41s 15ms/step - loss: 0.6827 - accuracy: 0.7167 - val_loss: 0.6943 - val_accuracy: 0.7130\n",
            "Epoch 6/60\n",
            "2722/2722 [==============================] - 41s 15ms/step - loss: 0.6653 - accuracy: 0.7241 - val_loss: 0.6811 - val_accuracy: 0.7177\n",
            "Epoch 7/60\n",
            "2722/2722 [==============================] - 46s 17ms/step - loss: 0.6487 - accuracy: 0.7312 - val_loss: 0.6891 - val_accuracy: 0.7144\n",
            "Epoch 8/60\n",
            "2722/2722 [==============================] - 46s 17ms/step - loss: 0.6329 - accuracy: 0.7378 - val_loss: 0.6776 - val_accuracy: 0.7218\n",
            "Epoch 9/60\n",
            "2722/2722 [==============================] - 46s 17ms/step - loss: 0.6170 - accuracy: 0.7449 - val_loss: 0.6717 - val_accuracy: 0.7239\n",
            "Epoch 10/60\n",
            "2722/2722 [==============================] - 41s 15ms/step - loss: 0.6022 - accuracy: 0.7518 - val_loss: 0.6705 - val_accuracy: 0.7270\n",
            "Epoch 11/60\n",
            "2722/2722 [==============================] - 46s 17ms/step - loss: 0.5884 - accuracy: 0.7576 - val_loss: 0.6813 - val_accuracy: 0.7250\n",
            "Epoch 12/60\n",
            "2722/2722 [==============================] - 41s 15ms/step - loss: 0.5765 - accuracy: 0.7628 - val_loss: 0.6741 - val_accuracy: 0.7260\n",
            "Epoch 13/60\n",
            "2722/2722 [==============================] - 41s 15ms/step - loss: 0.5650 - accuracy: 0.7683 - val_loss: 0.6679 - val_accuracy: 0.7300\n",
            "Epoch 14/60\n",
            "2722/2722 [==============================] - 46s 17ms/step - loss: 0.5541 - accuracy: 0.7719 - val_loss: 0.6669 - val_accuracy: 0.7313\n",
            "Epoch 15/60\n",
            "2722/2722 [==============================] - 46s 17ms/step - loss: 0.5441 - accuracy: 0.7766 - val_loss: 0.6701 - val_accuracy: 0.7372\n",
            "Epoch 16/60\n",
            "2722/2722 [==============================] - 41s 15ms/step - loss: 0.5332 - accuracy: 0.7819 - val_loss: 0.6798 - val_accuracy: 0.7332\n",
            "Epoch 17/60\n",
            "2722/2722 [==============================] - 41s 15ms/step - loss: 0.5250 - accuracy: 0.7846 - val_loss: 0.6736 - val_accuracy: 0.7373\n",
            "Epoch 18/60\n",
            "2722/2722 [==============================] - 46s 17ms/step - loss: 0.5168 - accuracy: 0.7888 - val_loss: 0.6756 - val_accuracy: 0.7333\n",
            "Epoch 19/60\n",
            "2722/2722 [==============================] - 41s 15ms/step - loss: 0.5108 - accuracy: 0.7915 - val_loss: 0.6792 - val_accuracy: 0.7370\n",
            "Epoch 20/60\n",
            "2722/2722 [==============================] - 46s 17ms/step - loss: 0.5036 - accuracy: 0.7946 - val_loss: 0.6883 - val_accuracy: 0.7321\n",
            "Epoch 21/60\n",
            "2722/2722 [==============================] - 41s 15ms/step - loss: 0.4966 - accuracy: 0.7985 - val_loss: 0.6868 - val_accuracy: 0.7404\n",
            "Epoch 22/60\n",
            "2722/2722 [==============================] - 41s 15ms/step - loss: 0.4907 - accuracy: 0.8003 - val_loss: 0.6851 - val_accuracy: 0.7397\n",
            "Epoch 23/60\n",
            "2722/2722 [==============================] - 46s 17ms/step - loss: 0.4860 - accuracy: 0.8016 - val_loss: 0.6999 - val_accuracy: 0.7400\n",
            "Epoch 24/60\n",
            "2722/2722 [==============================] - 46s 17ms/step - loss: 0.4802 - accuracy: 0.8047 - val_loss: 0.6946 - val_accuracy: 0.7412\n",
            "Epoch 25/60\n",
            "2722/2722 [==============================] - 41s 15ms/step - loss: 0.4760 - accuracy: 0.8063 - val_loss: 0.7017 - val_accuracy: 0.7431\n",
            "Epoch 26/60\n",
            "2722/2722 [==============================] - 46s 17ms/step - loss: 0.4720 - accuracy: 0.8088 - val_loss: 0.6933 - val_accuracy: 0.7389\n",
            "Epoch 27/60\n",
            "2722/2722 [==============================] - 41s 15ms/step - loss: 0.4673 - accuracy: 0.8103 - val_loss: 0.6966 - val_accuracy: 0.7426\n",
            "Epoch 28/60\n",
            "2722/2722 [==============================] - 42s 15ms/step - loss: 0.4640 - accuracy: 0.8116 - val_loss: 0.6893 - val_accuracy: 0.7432\n",
            "Epoch 29/60\n",
            "2722/2722 [==============================] - 41s 15ms/step - loss: 0.4609 - accuracy: 0.8132 - val_loss: 0.7046 - val_accuracy: 0.7425\n",
            "Epoch 30/60\n",
            "2722/2722 [==============================] - 46s 17ms/step - loss: 0.4560 - accuracy: 0.8153 - val_loss: 0.7013 - val_accuracy: 0.7409\n",
            "Epoch 31/60\n",
            "2722/2722 [==============================] - 46s 17ms/step - loss: 0.4537 - accuracy: 0.8165 - val_loss: 0.6951 - val_accuracy: 0.7456\n",
            "Epoch 32/60\n",
            "2722/2722 [==============================] - 47s 17ms/step - loss: 0.4497 - accuracy: 0.8186 - val_loss: 0.6941 - val_accuracy: 0.7439\n",
            "Epoch 33/60\n",
            "2722/2722 [==============================] - 46s 17ms/step - loss: 0.4462 - accuracy: 0.8188 - val_loss: 0.7126 - val_accuracy: 0.7428\n",
            "Epoch 34/60\n",
            "2722/2722 [==============================] - 46s 17ms/step - loss: 0.4438 - accuracy: 0.8202 - val_loss: 0.7167 - val_accuracy: 0.7442\n",
            "Epoch 35/60\n",
            "2722/2722 [==============================] - 46s 17ms/step - loss: 0.4408 - accuracy: 0.8214 - val_loss: 0.7176 - val_accuracy: 0.7406\n",
            "Epoch 36/60\n",
            "2722/2722 [==============================] - 46s 17ms/step - loss: 0.4397 - accuracy: 0.8224 - val_loss: 0.7090 - val_accuracy: 0.7437\n",
            "Epoch 37/60\n",
            "2722/2722 [==============================] - 46s 17ms/step - loss: 0.4368 - accuracy: 0.8230 - val_loss: 0.7169 - val_accuracy: 0.7410\n",
            "Epoch 38/60\n",
            "2722/2722 [==============================] - 46s 17ms/step - loss: 0.4354 - accuracy: 0.8239 - val_loss: 0.7067 - val_accuracy: 0.7428\n",
            "Epoch 39/60\n",
            "2722/2722 [==============================] - 46s 17ms/step - loss: 0.4316 - accuracy: 0.8253 - val_loss: 0.7127 - val_accuracy: 0.7441\n",
            "Epoch 40/60\n",
            "2722/2722 [==============================] - 46s 17ms/step - loss: 0.4292 - accuracy: 0.8268 - val_loss: 0.7130 - val_accuracy: 0.7477\n",
            "Epoch 41/60\n",
            " 613/2722 [=====>........................] - ETA: 27s - loss: 0.4216 - accuracy: 0.8293"
          ]
        }
      ],
      "source": [
        "history=modell.fit(x_train,y_train,epochs=60,verbose=1,validation_data=(x_test,y_test),batch_size=200)"
      ]
    },
    {
      "cell_type": "code",
      "execution_count": null,
      "metadata": {
        "id": "gNtnX3XATnGv"
      },
      "outputs": [],
      "source": [
        "import matplotlib.pyplot as plt\n",
        "\n",
        "# summarize history for accuracy\n",
        "plt.plot(history.history['accuracy'])\n",
        "plt.plot(history.history['val_accuracy'])\n",
        "plt.title('model accuracy')\n",
        "plt.ylabel('accuracy')\n",
        "plt.xlabel('epoch')\n",
        "plt.legend(['Train', 'Validation'], loc='upper left')\n",
        "plt.show()\n",
        "# summarize history for loss\n",
        "plt.plot(history.history['loss'])\n",
        "plt.plot(history.history['val_loss'])\n",
        "plt.title('model loss')\n",
        "plt.ylabel('loss')\n",
        "plt.xlabel('epoch')\n",
        "plt.legend(['Train', 'Validation'], loc='upper left')\n",
        "plt.show()"
      ]
    },
    {
      "cell_type": "code",
      "execution_count": null,
      "metadata": {
        "id": "2baAcne-TpnN"
      },
      "outputs": [],
      "source": [
        "loss,accuracy=modell.evaluate(x_test,y_test)\n",
        "print(f\"Accuracy:{accuracy}\\n Loss:{loss}\")\n"
      ]
    },
    {
      "cell_type": "code",
      "execution_count": null,
      "metadata": {
        "id": "7ivUmSZNTsMW"
      },
      "outputs": [],
      "source": [
        "y_pred=modell.predict(x_test)"
      ]
    },
    {
      "cell_type": "code",
      "execution_count": null,
      "metadata": {
        "id": "Z6ldIIB7TuDx"
      },
      "outputs": [],
      "source": [
        "from sklearn.metrics import roc_curve, auc\n",
        "from sklearn.preprocessing import label_binarize\n",
        "import matplotlib.pyplot as plt\n",
        "\n",
        "# Binarize the true labels (y_test) for each class\n",
        "y_test_binarized = label_binarize(y_test, classes=[0, 1, 2])\n",
        "\n",
        "# Compute ROC curve and AUC for each class\n",
        "fpr = dict()\n",
        "tpr = dict()\n",
        "roc_auc = dict()\n",
        "num_classes = 3\n",
        "for i in range(num_classes):\n",
        "    fpr[i], tpr[i], _ = roc_curve(y_test_binarized[:, i], y_pred[:, i])\n",
        "    roc_auc[i] = auc(fpr[i], tpr[i])\n",
        "\n",
        "# Plot ROC curve for each class and the diagonal line\n",
        "plt.figure(figsize=(8, 6))\n",
        "for i in range(num_classes):\n",
        "    plt.plot(fpr[i], tpr[i], label=f'Class {i} (AUC = {roc_auc[i]:.2f})')\n",
        "\n",
        "# Plot diagonal line representing random guessing\n",
        "plt.plot([0, 1], [0, 1], color='navy', linestyle='--')\n",
        "\n",
        "plt.xlabel('False Positive Rate')\n",
        "plt.ylabel('True Positive Rate')\n",
        "plt.legend()\n",
        "plt.show()\n"
      ]
    },
    {
      "cell_type": "code",
      "execution_count": null,
      "metadata": {
        "id": "pvdhzNF6TwpF"
      },
      "outputs": [],
      "source": [
        "y_pred=np.argmax(y_pred,axis=1)"
      ]
    },
    {
      "cell_type": "markdown",
      "metadata": {
        "id": "p7GzGJiwT1FG"
      },
      "source": [
        "## Generate the classification report"
      ]
    },
    {
      "cell_type": "code",
      "execution_count": null,
      "metadata": {
        "id": "yYXi8s7hTysi"
      },
      "outputs": [],
      "source": [
        "report = classification_report(y_test, y_pred)\n",
        "print(report)"
      ]
    },
    {
      "cell_type": "markdown",
      "metadata": {
        "id": "YKfBjf00T58N"
      },
      "source": [
        "## Generating confusion matrix"
      ]
    },
    {
      "cell_type": "code",
      "execution_count": null,
      "metadata": {
        "id": "5mOW2ZAiT31m"
      },
      "outputs": [],
      "source": [
        "cm=confusion_matrix(y_test,y_pred)\n",
        "print(cm)"
      ]
    },
    {
      "cell_type": "code",
      "execution_count": null,
      "metadata": {
        "id": "d1fOP1HrT9w2"
      },
      "outputs": [],
      "source": [
        "class_names=['positve','negative','neutral']\n",
        "\n",
        "# Plot confusion matrix as a heatmap\n",
        "plt.figure(figsize=(8, 6))\n",
        "sns.set(font_scale=1.2)  # Adjust the font scale for better readability\n",
        "sns.heatmap(cm, annot=True, fmt='d', cmap='Blues',\n",
        "            xticklabels=class_names, yticklabels=class_names)\n",
        "\n",
        "# Customize labels, title, and axis ticks\n",
        "plt.xlabel('Predicted Labels')\n",
        "plt.ylabel('True Labels')\n",
        "plt.title('Confusion Matrix_LSTM+GRU_wB_F')\n",
        "plt.xticks(ticks=range(len(class_names)), labels=class_names, rotation=45)\n",
        "plt.yticks(ticks=range(len(class_names)), labels=class_names, rotation=0)\n",
        "\n",
        "plt.show()"
      ]
    },
    {
      "cell_type": "markdown",
      "metadata": {
        "id": "pyZTkcVvUEXI"
      },
      "source": [
        "### LSTM with balancing and FAsttext"
      ]
    },
    {
      "cell_type": "code",
      "execution_count": null,
      "metadata": {
        "id": "lzcRR4PKUAKp"
      },
      "outputs": [],
      "source": [
        "pip install imblearn"
      ]
    },
    {
      "cell_type": "code",
      "execution_count": null,
      "metadata": {
        "id": "ukdV2UqZUIxx"
      },
      "outputs": [],
      "source": [
        "from imblearn.over_sampling import RandomOverSampler\n",
        "from collections import Counter"
      ]
    },
    {
      "cell_type": "code",
      "execution_count": null,
      "metadata": {
        "id": "zSSf0J_uULQC"
      },
      "outputs": [],
      "source": [
        "x=data.drop(['sentiment'],axis=1)\n",
        "y=data.sentiment"
      ]
    },
    {
      "cell_type": "markdown",
      "metadata": {
        "id": "nkqoxEcCUPZu"
      },
      "source": [
        "### distribution before balancing"
      ]
    },
    {
      "cell_type": "code",
      "execution_count": null,
      "metadata": {
        "id": "Ci84ZsUiUNO-"
      },
      "outputs": [],
      "source": [
        "print(\"Distribution of sentiemnt column categories before Balancing\\n\",Counter(y))"
      ]
    },
    {
      "cell_type": "code",
      "execution_count": null,
      "metadata": {
        "id": "Eo9TSBIUUXyu"
      },
      "outputs": [],
      "source": [
        "sampler =RandomOverSampler(sampling_strategy='auto',random_state=42)\n",
        "\n",
        "X_resampled, y_resampled = sampler.fit_resample(x, y)"
      ]
    },
    {
      "cell_type": "code",
      "execution_count": null,
      "metadata": {
        "id": "H_JTgonbUaA-"
      },
      "outputs": [],
      "source": [
        "print(\"Distribution of sentiemnt column categories After Balancing\\n\",Counter(y_resampled))"
      ]
    },
    {
      "cell_type": "code",
      "execution_count": null,
      "metadata": {
        "id": "AqBr3sb_UcAu"
      },
      "outputs": [],
      "source": [
        "data=pd.DataFrame({\n",
        "    'review':X_resampled.review,\n",
        "    'sentiment':y_resampled\n",
        "})"
      ]
    },
    {
      "cell_type": "code",
      "execution_count": null,
      "metadata": {
        "id": "IEcrtKV_UePk"
      },
      "outputs": [],
      "source": [
        "data.head()"
      ]
    },
    {
      "cell_type": "code",
      "execution_count": null,
      "metadata": {
        "id": "h41cKsusUgDb"
      },
      "outputs": [],
      "source": [
        "data.shape"
      ]
    },
    {
      "cell_type": "code",
      "execution_count": null,
      "metadata": {
        "id": "V_RYw8YnUiRf"
      },
      "outputs": [],
      "source": [
        "sns.countplot(x=data.sentiment,data=data)"
      ]
    },
    {
      "cell_type": "code",
      "execution_count": null,
      "metadata": {
        "id": "BqLGmpswUkwj"
      },
      "outputs": [],
      "source": [
        "tokenizer=Tokenizer()\n",
        "tokenizer.fit_on_texts(data.review)"
      ]
    },
    {
      "cell_type": "code",
      "execution_count": null,
      "metadata": {
        "id": "-9H2qjE5UmeO"
      },
      "outputs": [],
      "source": [
        "vocabulary_size=len(tokenizer.word_index)+1\n",
        "vocabulary_size"
      ]
    },
    {
      "cell_type": "code",
      "execution_count": null,
      "metadata": {
        "id": "OnhbybETUoAC"
      },
      "outputs": [],
      "source": [
        "seq=tokenizer.texts_to_sequences(data.review)"
      ]
    },
    {
      "cell_type": "code",
      "execution_count": null,
      "metadata": {
        "id": "-lzc7FwyUqY1"
      },
      "outputs": [],
      "source": [
        "max_tokens=100"
      ]
    },
    {
      "cell_type": "markdown",
      "metadata": {
        "id": "dVgGl5YAUuhH"
      },
      "source": [
        "## Padding in order to make size fixed of reivews}"
      ]
    },
    {
      "cell_type": "code",
      "execution_count": null,
      "metadata": {
        "id": "aPFFoUgsUsLq"
      },
      "outputs": [],
      "source": [
        "pad_seq=pad_sequences(seq,maxlen=max_tokens,padding='post')"
      ]
    },
    {
      "cell_type": "code",
      "execution_count": null,
      "metadata": {
        "id": "-ytRQVROUw6F"
      },
      "outputs": [],
      "source": [
        "len(data.sentiment)"
      ]
    },
    {
      "cell_type": "code",
      "execution_count": null,
      "metadata": {
        "id": "o0PBUxZiUzbG"
      },
      "outputs": [],
      "source": [
        "x_train,x_test,y_train,y_test=train_test_split(pad_seq,data.sentiment,test_size=0.25,random_state=42)"
      ]
    },
    {
      "cell_type": "markdown",
      "metadata": {
        "id": "94duDRQ8U3i_"
      },
      "source": [
        "### Fasttext embedding"
      ]
    },
    {
      "cell_type": "code",
      "execution_count": null,
      "metadata": {
        "id": "hWG1P1CrU1VJ"
      },
      "outputs": [],
      "source": [
        "embedding_matrix=np.zeros((vocabulary_size,100))\n",
        "for word,i in tokenizer.word_index.items():\n",
        "  if word in modelf.wv:\n",
        "    embedding_matrix[i]=modelf.wv[word]"
      ]
    },
    {
      "cell_type": "code",
      "execution_count": null,
      "metadata": {
        "id": "a38mMshbU7ii"
      },
      "outputs": [],
      "source": [
        "modelf.wv['control']"
      ]
    },
    {
      "cell_type": "code",
      "execution_count": null,
      "metadata": {
        "id": "fPwHwlpsU-Eq"
      },
      "outputs": [],
      "source": [
        "## LSTM model with Balanced Dataset"
      ]
    },
    {
      "cell_type": "code",
      "execution_count": null,
      "metadata": {
        "id": "rWue9g2TU_7i"
      },
      "outputs": [],
      "source": [
        "model2=Sequential()\n",
        "model2.add(Embedding(input_dim=vocabulary_size,output_dim=100,input_length=max_tokens,weights=[embedding_matrix],trainable=False))\n",
        "model2.add(SpatialDropout1D(0.1))\n",
        "model2.add(LSTM(units=250,activation='tanh'))\n",
        "#output layer\n",
        "model2.add(Dense(3,activation='softmax'))\n",
        "optimizer=Adam(lr=1e-3)\n",
        "model2.compile(loss='sparse_categorical_crossentropy',optimizer=optimizer,metrics=['accuracy'])\n",
        "model2.summary()"
      ]
    },
    {
      "cell_type": "code",
      "execution_count": null,
      "metadata": {
        "id": "szc7CBtuVCi7"
      },
      "outputs": [],
      "source": [
        "history=model2.fit(x_train,y_train,epochs=60,verbose=1,validation_data=(x_test,y_test),batch_size=200)"
      ]
    },
    {
      "cell_type": "code",
      "execution_count": null,
      "metadata": {
        "id": "yiH2WNquVEtS"
      },
      "outputs": [],
      "source": [
        "import matplotlib.pyplot as plt\n",
        "\n",
        "# summarize history for accuracy\n",
        "plt.plot(history.history['accuracy'])\n",
        "plt.plot(history.history['val_accuracy'])\n",
        "plt.title('model accuracy')\n",
        "plt.ylabel('accuracy')\n",
        "plt.xlabel('epoch')\n",
        "plt.legend(['Train', 'Validation'], loc='upper left')\n",
        "plt.show()\n",
        "# summarize history for loss\n",
        "plt.plot(history.history['loss'])\n",
        "plt.plot(history.history['val_loss'])\n",
        "plt.title('model loss')\n",
        "plt.ylabel('loss')\n",
        "plt.xlabel('epoch')\n",
        "plt.legend(['Train', 'Validation'], loc='upper left')\n",
        "plt.show()"
      ]
    },
    {
      "cell_type": "code",
      "execution_count": null,
      "metadata": {
        "id": "UrfdRKwHVMx5"
      },
      "outputs": [],
      "source": [
        "loss,accuracy=model2.evaluate(x_test,y_test)\n",
        "print(f\"Accuracy:{accuracy}\\n Loss:{loss}\")"
      ]
    },
    {
      "cell_type": "code",
      "execution_count": null,
      "metadata": {
        "id": "AAJIUVtsVaRU"
      },
      "outputs": [],
      "source": [
        "y_pred=model2.predict(x_test)"
      ]
    },
    {
      "cell_type": "code",
      "execution_count": null,
      "metadata": {
        "id": "-k8_j598VfFZ"
      },
      "outputs": [],
      "source": [
        "from sklearn.metrics import roc_curve, auc\n",
        "from sklearn.preprocessing import label_binarize\n",
        "import matplotlib.pyplot as plt\n",
        "\n",
        "# Binarize the true labels (y_test) for each class\n",
        "y_test_binarized = label_binarize(y_test, classes=[0, 1, 2])\n",
        "\n",
        "# Compute ROC curve and AUC for each class\n",
        "fpr = dict()\n",
        "tpr = dict()\n",
        "roc_auc = dict()\n",
        "num_classes = 3\n",
        "for i in range(num_classes):\n",
        "    fpr[i], tpr[i], _ = roc_curve(y_test_binarized[:, i], y_pred[:, i])\n",
        "    roc_auc[i] = auc(fpr[i], tpr[i])\n",
        "\n",
        "# Plot ROC curve for each class and the diagonal line\n",
        "plt.figure(figsize=(8, 6))\n",
        "for i in range(num_classes):\n",
        "    plt.plot(fpr[i], tpr[i], label=f'Class {i} (AUC = {roc_auc[i]:.2f})')\n",
        "\n",
        "# Plot diagonal line representing random guessing\n",
        "plt.plot([0, 1], [0, 1], color='navy', linestyle='--')\n",
        "\n",
        "plt.xlabel('False Positive Rate')\n",
        "plt.ylabel('True Positive Rate')\n",
        "plt.legend()\n",
        "plt.show()\n"
      ]
    },
    {
      "cell_type": "code",
      "execution_count": null,
      "metadata": {
        "id": "Y2M9887WVk-Y"
      },
      "outputs": [],
      "source": [
        "y_pred=np.argmax(y_pred,axis=1)"
      ]
    },
    {
      "cell_type": "code",
      "execution_count": null,
      "metadata": {
        "id": "RWmv1lOtVmw9"
      },
      "outputs": [],
      "source": [
        "# Generate the classification report\n",
        "report = classification_report(y_test, y_pred)\n",
        "print(report)"
      ]
    },
    {
      "cell_type": "code",
      "execution_count": null,
      "metadata": {
        "id": "QADFpNK3VocJ"
      },
      "outputs": [],
      "source": [
        "#confusion matrix\n",
        "cm=confusion_matrix(y_test,y_pred)\n",
        "print(cm)"
      ]
    },
    {
      "cell_type": "code",
      "execution_count": null,
      "metadata": {
        "id": "ser4479pVqRS"
      },
      "outputs": [],
      "source": [
        "class_names=['positve','negative','neutral']\n",
        "\n",
        "# Plot confusion matrix as a heatmap\n",
        "plt.figure(figsize=(8, 6))\n",
        "sns.set(font_scale=1.2)  # Adjust the font scale for better readability\n",
        "sns.heatmap(cm, annot=True, fmt='d', cmap='Blues',\n",
        "            xticklabels=class_names, yticklabels=class_names)\n",
        "\n",
        "# Customize labels, title, and axis ticks\n",
        "plt.xlabel('Predicted Labels')\n",
        "plt.ylabel('True Labels')\n",
        "plt.title('Confusion Matrix_LSTM_B_F')\n",
        "plt.xticks(ticks=range(len(class_names)), labels=class_names, rotation=45)\n",
        "plt.yticks(ticks=range(len(class_names)), labels=class_names, rotation=0)\n",
        "\n",
        "plt.show()"
      ]
    },
    {
      "cell_type": "markdown",
      "metadata": {
        "id": "CDhHHX82Vvi4"
      },
      "source": [
        "## Bidirectional LSTM with FASTTEXt and balanced dataset"
      ]
    },
    {
      "cell_type": "code",
      "execution_count": null,
      "metadata": {
        "id": "yaE1N1P_Vs_2"
      },
      "outputs": [],
      "source": [
        "x_train,x_test,y_train,y_test=train_test_split(pad_seq,data.sentiment,test_size=0.25,random_state=42)"
      ]
    },
    {
      "cell_type": "code",
      "execution_count": null,
      "metadata": {
        "colab": {
          "background_save": true
        },
        "id": "PsntfZVRVzXE"
      },
      "outputs": [],
      "source": [
        "model4=Sequential()\n",
        "model4.add(Embedding(input_dim=vocabulary_size,output_dim=100,input_length=max_tokens,weights=[embedding_matrix],trainable=False))\n",
        "model4.add(SpatialDropout1D(0.1))\n",
        "model4.add(Bidirectional(LSTM(units=250,activation='tanh')))\n",
        "#output layer\n",
        "model4.add(Dense(3,activation='softmax'))\n",
        "optimizer=Adam(lr=1e-3)\n",
        "model4.compile(loss='sparse_categorical_crossentropy',optimizer=optimizer,metrics=['accuracy'])\n",
        "model4.summary()"
      ]
    },
    {
      "cell_type": "code",
      "execution_count": null,
      "metadata": {
        "id": "8I0WcKMxV4no"
      },
      "outputs": [],
      "source": [
        "history=model4.fit(x_train,y_train,epochs=60,verbose=1,validation_data=(x_test,y_test),batch_size=200)"
      ]
    },
    {
      "cell_type": "code",
      "execution_count": null,
      "metadata": {
        "id": "7a2AKVehV6Zv"
      },
      "outputs": [],
      "source": [
        "import matplotlib.pyplot as plt\n",
        "\n",
        "# summarize history for accuracy\n",
        "plt.plot(history.history['accuracy'])\n",
        "plt.plot(history.history['val_accuracy'])\n",
        "plt.title('model accuracy')\n",
        "plt.ylabel('accuracy')\n",
        "plt.xlabel('epoch')\n",
        "plt.legend(['Train', 'Validation'], loc='upper left')\n",
        "plt.show()\n",
        "# summarize history for loss\n",
        "plt.plot(history.history['loss'])\n",
        "plt.plot(history.history['val_loss'])\n",
        "plt.title('model loss')\n",
        "plt.ylabel('loss')\n",
        "plt.xlabel('epoch')\n",
        "plt.legend(['Train', 'Validation'], loc='upper left')\n",
        "plt.show()"
      ]
    },
    {
      "cell_type": "code",
      "execution_count": null,
      "metadata": {
        "id": "3_-WG0jFV8P5"
      },
      "outputs": [],
      "source": [
        "loss,accuracy=model4.evaluate(x_test,y_test)\n",
        "print(f\"Accuracy:{accuracy}\\n Loss:{loss}\")"
      ]
    },
    {
      "cell_type": "code",
      "execution_count": null,
      "metadata": {
        "id": "wHT9VPPvV956"
      },
      "outputs": [],
      "source": [
        "y_pred=model4.predict(x_test)"
      ]
    },
    {
      "cell_type": "code",
      "execution_count": null,
      "metadata": {
        "id": "_o2hyb1RWAZF"
      },
      "outputs": [],
      "source": [
        "from sklearn.metrics import roc_curve, auc\n",
        "from sklearn.preprocessing import label_binarize\n",
        "import matplotlib.pyplot as plt\n",
        "\n",
        "# Binarize the true labels (y_test) for each class\n",
        "y_test_binarized = label_binarize(y_test, classes=[0, 1, 2])\n",
        "\n",
        "# Compute ROC curve and AUC for each class\n",
        "fpr = dict()\n",
        "tpr = dict()\n",
        "roc_auc = dict()\n",
        "num_classes = 3\n",
        "for i in range(num_classes):\n",
        "    fpr[i], tpr[i], _ = roc_curve(y_test_binarized[:, i], y_pred[:, i])\n",
        "    roc_auc[i] = auc(fpr[i], tpr[i])\n",
        "\n",
        "# Plot ROC curve for each class and the diagonal line\n",
        "plt.figure(figsize=(8, 6))\n",
        "for i in range(num_classes):\n",
        "    plt.plot(fpr[i], tpr[i], label=f'Class {i} (AUC = {roc_auc[i]:.2f})')\n",
        "\n",
        "# Plot diagonal line representing random guessing\n",
        "plt.plot([0, 1], [0, 1], color='navy', linestyle='--')\n",
        "\n",
        "plt.xlabel('False Positive Rate')\n",
        "plt.ylabel('True Positive Rate')\n",
        "plt.legend()\n",
        "plt.show()\n"
      ]
    },
    {
      "cell_type": "code",
      "execution_count": null,
      "metadata": {
        "id": "jMWXwpTvWB35"
      },
      "outputs": [],
      "source": [
        "y_pred=np.argmax(y_pred,axis=1)"
      ]
    },
    {
      "cell_type": "code",
      "execution_count": null,
      "metadata": {
        "id": "6INTa0meWDp_"
      },
      "outputs": [],
      "source": [
        "# Generate the classification report\n",
        "report = classification_report(y_test, y_pred)\n",
        "print(report)"
      ]
    },
    {
      "cell_type": "code",
      "execution_count": null,
      "metadata": {
        "id": "CQT3aVreWFYk"
      },
      "outputs": [],
      "source": [
        "#confusion matrix\n",
        "cm=confusion_matrix(y_test,y_pred)\n",
        "print(cm)"
      ]
    },
    {
      "cell_type": "code",
      "execution_count": null,
      "metadata": {
        "id": "YIX1bIhbWG4f"
      },
      "outputs": [],
      "source": [
        "class_names=['positve','negative','neutral']\n",
        "\n",
        "# Plot confusion matrix as a heatmap\n",
        "plt.figure(figsize=(8, 6))\n",
        "sns.set(font_scale=1.2)  # Adjust the font scale for better readability\n",
        "sns.heatmap(cm, annot=True, fmt='d', cmap='Blues',\n",
        "            xticklabels=class_names, yticklabels=class_names)\n",
        "\n",
        "# Customize labels, title, and axis ticks\n",
        "plt.xlabel('Predicted Labels')\n",
        "plt.ylabel('True Labels')\n",
        "plt.title('Confusion Matrix_Bi-LSTM_B_F')\n",
        "plt.xticks(ticks=range(len(class_names)), labels=class_names, rotation=45)\n",
        "plt.yticks(ticks=range(len(class_names)), labels=class_names, rotation=0)\n",
        "\n",
        "plt.show()"
      ]
    },
    {
      "cell_type": "markdown",
      "metadata": {
        "id": "x6t0PEJ_WLlN"
      },
      "source": [
        "## LSTM+GRU Balanced dataset"
      ]
    },
    {
      "cell_type": "code",
      "execution_count": null,
      "metadata": {
        "id": "W6CXtbbeWJBS"
      },
      "outputs": [],
      "source": [
        "modell1=Sequential()\n",
        "modell1.add(Embedding(input_dim=vocabulary_size,output_dim=100,input_length=max_tokens,weights=[embedding_matrix],trainable=False))\n",
        "modell1.add(SpatialDropout1D(0.1))\n",
        "modell1.add(LSTM(units=200,activation='tanh',return_sequences=True))\n",
        "modell1.add(GRU(units=200,activation='tanh'))\n",
        "modell1.add(Dense(3,activation='softmax'))\n",
        "optimizer=Adam(lr=1e-3)\n",
        "modell1.compile(loss='sparse_categorical_crossentropy',optimizer=optimizer,metrics=['accuracy'])\n",
        "modell1.summary()"
      ]
    },
    {
      "cell_type": "code",
      "execution_count": null,
      "metadata": {
        "id": "ECg1Ar1CWN7H"
      },
      "outputs": [],
      "source": [
        "history=modell1.fit(x_train,y_train,epochs=60,verbose=1,validation_data=(x_test,y_test),batch_size=200)"
      ]
    },
    {
      "cell_type": "code",
      "execution_count": null,
      "metadata": {
        "id": "zS0sfkUoWPv3"
      },
      "outputs": [],
      "source": [
        "import matplotlib.pyplot as plt\n",
        "\n",
        "# summarize history for accuracy\n",
        "plt.plot(history.history['accuracy'])\n",
        "plt.plot(history.history['val_accuracy'])\n",
        "plt.title('model accuracy')\n",
        "plt.ylabel('accuracy')\n",
        "plt.xlabel('epoch')\n",
        "plt.legend(['Train', 'Validation'], loc='upper left')\n",
        "plt.show()\n",
        "# summarize history for loss\n",
        "plt.plot(history.history['loss'])\n",
        "plt.plot(history.history['val_loss'])\n",
        "plt.title('model loss')\n",
        "plt.ylabel('loss')\n",
        "plt.xlabel('epoch')\n",
        "plt.legend(['Train', 'Validation'], loc='upper left')\n",
        "plt.show()"
      ]
    },
    {
      "cell_type": "code",
      "execution_count": null,
      "metadata": {
        "id": "WNtCJOQYWRkU"
      },
      "outputs": [],
      "source": [
        "loss,accuracy=modell1.evaluate(x_test,y_test)\n",
        "print(f\"Accuracy:{accuracy}\\n Loss:{loss}\")"
      ]
    },
    {
      "cell_type": "code",
      "execution_count": null,
      "metadata": {
        "id": "HeHAyTqfWTIO"
      },
      "outputs": [],
      "source": [
        "y_pred=modell1.predict(x_test)"
      ]
    },
    {
      "cell_type": "code",
      "execution_count": null,
      "metadata": {
        "id": "qqF-OFs8WU0O"
      },
      "outputs": [],
      "source": [
        "from sklearn.metrics import roc_curve, auc\n",
        "from sklearn.preprocessing import label_binarize\n",
        "import matplotlib.pyplot as plt\n",
        "\n",
        "# Binarize the true labels (y_test) for each class\n",
        "y_test_binarized = label_binarize(y_test, classes=[0, 1, 2])\n",
        "\n",
        "# Compute ROC curve and AUC for each class\n",
        "fpr = dict()\n",
        "tpr = dict()\n",
        "roc_auc = dict()\n",
        "num_classes = 3\n",
        "for i in range(num_classes):\n",
        "    fpr[i], tpr[i], _ = roc_curve(y_test_binarized[:, i], y_pred[:, i])\n",
        "    roc_auc[i] = auc(fpr[i], tpr[i])\n",
        "\n",
        "# Plot ROC curve for each class and the diagonal line\n",
        "plt.figure(figsize=(8, 6))\n",
        "for i in range(num_classes):\n",
        "    plt.plot(fpr[i], tpr[i], label=f'Class {i} (AUC = {roc_auc[i]:.2f})')\n",
        "\n",
        "# Plot diagonal line representing random guessing\n",
        "plt.plot([0, 1], [0, 1], color='navy', linestyle='--')\n",
        "\n",
        "plt.xlabel('False Positive Rate')\n",
        "plt.ylabel('True Positive Rate')\n",
        "plt.legend()\n",
        "plt.show()\n"
      ]
    },
    {
      "cell_type": "code",
      "execution_count": null,
      "metadata": {
        "id": "ku2BribeWWaT"
      },
      "outputs": [],
      "source": [
        "y_pred=np.argmax(y_pred,axis=1)"
      ]
    },
    {
      "cell_type": "code",
      "execution_count": null,
      "metadata": {
        "id": "A_sYLCs-WYKA"
      },
      "outputs": [],
      "source": [
        "# Generate the classification report\n",
        "report = classification_report(y_test, y_pred)\n",
        "print(report)"
      ]
    },
    {
      "cell_type": "code",
      "execution_count": null,
      "metadata": {
        "id": "H1NsSMdyWaAK"
      },
      "outputs": [],
      "source": [
        "#confusion matrix\n",
        "cm=confusion_matrix(y_test,y_pred)\n",
        "print(cm)"
      ]
    },
    {
      "cell_type": "code",
      "execution_count": null,
      "metadata": {
        "id": "KJSqwkE6Wbhq"
      },
      "outputs": [],
      "source": [
        "class_names=['positve','negative','neutral']\n",
        "\n",
        "# Plot confusion matrix as a heatmap\n",
        "plt.figure(figsize=(8, 6))\n",
        "sns.set(font_scale=1.2)  # Adjust the font scale for better readability\n",
        "sns.heatmap(cm, annot=True, fmt='d', cmap='Blues',\n",
        "            xticklabels=class_names, yticklabels=class_names)\n",
        "\n",
        "# Customize labels, title, and axis ticks\n",
        "plt.xlabel('Predicted Labels')\n",
        "plt.ylabel('True Labels')\n",
        "plt.title('Confusion Matrix_LSTM+GRU_B_F')\n",
        "plt.xticks(ticks=range(len(class_names)), labels=class_names, rotation=45)\n",
        "plt.yticks(ticks=range(len(class_names)), labels=class_names, rotation=0)\n",
        "\n",
        "plt.show()"
      ]
    },
    {
      "cell_type": "markdown",
      "source": [
        "## CNN+LSTM without balancing with FastText\""
      ],
      "metadata": {
        "id": "-kB83Z2d542-"
      }
    },
    {
      "cell_type": "code",
      "source": [
        "from tensorflow.keras.models import Sequential\n",
        "from tensorflow.keras.layers import Embedding, Conv1D, GlobalMaxPooling1D, Dense\n",
        "from tensorflow.keras.preprocessing.sequence import pad_sequences"
      ],
      "metadata": {
        "id": "4w4MqwlQ6H6x"
      },
      "execution_count": 39,
      "outputs": []
    },
    {
      "cell_type": "code",
      "source": [
        "maxlen = 100  # Cut off texts after this many words\n",
        "kernel_size = 5  # Size of the convolutional filters\n",
        "filters = 64  # Number of filters in the convolutional layers\n",
        "hidden_dims = 100  # Number of units in the fully connected layers"
      ],
      "metadata": {
        "id": "YtguL8h17bP9"
      },
      "execution_count": 40,
      "outputs": []
    },
    {
      "cell_type": "code",
      "source": [
        "from tensorflow.keras.layers import Reshape\n",
        "\n",
        "# Create the model\n",
        "models = Sequential()\n",
        "\n",
        "# Embedding layer\n",
        "models.add(Embedding(input_dim=vocabulary_size, output_dim=100, input_length=max_tokens, weights=[embedding_matrix], trainable=False))\n",
        "\n",
        "# Convolutional layers with max pooling\n",
        "models.add(Conv1D(filters, kernel_size, activation='relu'))\n",
        "models.add(GlobalMaxPooling1D())\n",
        "\n",
        "# Reshape layer to convert output shape for LSTM input\n",
        "models.add(Reshape((-1, filters)))  # Reshape the output for LSTM input\n",
        "\n",
        "# LSTM layer\n",
        "models.add(LSTM(units=64, activation='tanh', return_sequences=True))\n",
        "models.add(LSTM(units=32, activation='tanh', return_sequences=False))\n",
        "\n",
        "# Output layer\n",
        "models.add(Dense(3, activation='softmax'))\n",
        "\n",
        "# Compile the model\n",
        "models.compile(optimizer='adam', loss='categorical_crossentropy', metrics=['accuracy'])\n",
        "models.summary()\n"
      ],
      "metadata": {
        "colab": {
          "base_uri": "https://localhost:8080/"
        },
        "id": "Fu6-kQNx63sd",
        "outputId": "a6095cd8-a420-4954-f284-33df7fd30aa8"
      },
      "execution_count": 51,
      "outputs": [
        {
          "output_type": "stream",
          "name": "stdout",
          "text": [
            "Model: \"sequential_7\"\n",
            "_________________________________________________________________\n",
            " Layer (type)                Output Shape              Param #   \n",
            "=================================================================\n",
            " embedding_7 (Embedding)     (None, 100, 100)          8783700   \n",
            "                                                                 \n",
            " conv1d_7 (Conv1D)           (None, 96, 64)            32064     \n",
            "                                                                 \n",
            " global_max_pooling1d_6 (Gl  (None, 64)                0         \n",
            " obalMaxPooling1D)                                               \n",
            "                                                                 \n",
            " reshape_1 (Reshape)         (None, 1, 64)             0         \n",
            "                                                                 \n",
            " lstm_2 (LSTM)               (None, 1, 64)             33024     \n",
            "                                                                 \n",
            " lstm_3 (LSTM)               (None, 32)                12416     \n",
            "                                                                 \n",
            " dense_7 (Dense)             (None, 3)                 99        \n",
            "                                                                 \n",
            "=================================================================\n",
            "Total params: 8861303 (33.80 MB)\n",
            "Trainable params: 77603 (303.14 KB)\n",
            "Non-trainable params: 8783700 (33.51 MB)\n",
            "_________________________________________________________________\n"
          ]
        }
      ]
    },
    {
      "cell_type": "code",
      "source": [
        "y_train=pd.get_dummies(y_train)\n",
        "y_test=pd.get_dummies(y_test)"
      ],
      "metadata": {
        "id": "Wup3n90l9IcS"
      },
      "execution_count": 52,
      "outputs": []
    },
    {
      "cell_type": "code",
      "source": [
        "y_train"
      ],
      "metadata": {
        "colab": {
          "base_uri": "https://localhost:8080/",
          "height": 423
        },
        "id": "O8zTR7CI9INj",
        "outputId": "268cdd73-a561-404a-d1de-5d944d071d1f"
      },
      "execution_count": 53,
      "outputs": [
        {
          "output_type": "execute_result",
          "data": {
            "text/plain": [
              "        0  1  2\n",
              "95339   1  0  0\n",
              "142899  0  0  1\n",
              "283746  0  1  0\n",
              "56592   0  1  0\n",
              "197658  0  0  1\n",
              "...    .. .. ..\n",
              "166383  0  1  0\n",
              "113862  0  0  1\n",
              "343763  1  0  0\n",
              "138119  1  0  0\n",
              "289280  0  1  0\n",
              "\n",
              "[272104 rows x 3 columns]"
            ],
            "text/html": [
              "\n",
              "  <div id=\"df-854d401f-3061-4670-9645-0f725ade60a3\" class=\"colab-df-container\">\n",
              "    <div>\n",
              "<style scoped>\n",
              "    .dataframe tbody tr th:only-of-type {\n",
              "        vertical-align: middle;\n",
              "    }\n",
              "\n",
              "    .dataframe tbody tr th {\n",
              "        vertical-align: top;\n",
              "    }\n",
              "\n",
              "    .dataframe thead th {\n",
              "        text-align: right;\n",
              "    }\n",
              "</style>\n",
              "<table border=\"1\" class=\"dataframe\">\n",
              "  <thead>\n",
              "    <tr style=\"text-align: right;\">\n",
              "      <th></th>\n",
              "      <th>0</th>\n",
              "      <th>1</th>\n",
              "      <th>2</th>\n",
              "    </tr>\n",
              "  </thead>\n",
              "  <tbody>\n",
              "    <tr>\n",
              "      <th>95339</th>\n",
              "      <td>1</td>\n",
              "      <td>0</td>\n",
              "      <td>0</td>\n",
              "    </tr>\n",
              "    <tr>\n",
              "      <th>142899</th>\n",
              "      <td>0</td>\n",
              "      <td>0</td>\n",
              "      <td>1</td>\n",
              "    </tr>\n",
              "    <tr>\n",
              "      <th>283746</th>\n",
              "      <td>0</td>\n",
              "      <td>1</td>\n",
              "      <td>0</td>\n",
              "    </tr>\n",
              "    <tr>\n",
              "      <th>56592</th>\n",
              "      <td>0</td>\n",
              "      <td>1</td>\n",
              "      <td>0</td>\n",
              "    </tr>\n",
              "    <tr>\n",
              "      <th>197658</th>\n",
              "      <td>0</td>\n",
              "      <td>0</td>\n",
              "      <td>1</td>\n",
              "    </tr>\n",
              "    <tr>\n",
              "      <th>...</th>\n",
              "      <td>...</td>\n",
              "      <td>...</td>\n",
              "      <td>...</td>\n",
              "    </tr>\n",
              "    <tr>\n",
              "      <th>166383</th>\n",
              "      <td>0</td>\n",
              "      <td>1</td>\n",
              "      <td>0</td>\n",
              "    </tr>\n",
              "    <tr>\n",
              "      <th>113862</th>\n",
              "      <td>0</td>\n",
              "      <td>0</td>\n",
              "      <td>1</td>\n",
              "    </tr>\n",
              "    <tr>\n",
              "      <th>343763</th>\n",
              "      <td>1</td>\n",
              "      <td>0</td>\n",
              "      <td>0</td>\n",
              "    </tr>\n",
              "    <tr>\n",
              "      <th>138119</th>\n",
              "      <td>1</td>\n",
              "      <td>0</td>\n",
              "      <td>0</td>\n",
              "    </tr>\n",
              "    <tr>\n",
              "      <th>289280</th>\n",
              "      <td>0</td>\n",
              "      <td>1</td>\n",
              "      <td>0</td>\n",
              "    </tr>\n",
              "  </tbody>\n",
              "</table>\n",
              "<p>272104 rows × 3 columns</p>\n",
              "</div>\n",
              "    <div class=\"colab-df-buttons\">\n",
              "\n",
              "  <div class=\"colab-df-container\">\n",
              "    <button class=\"colab-df-convert\" onclick=\"convertToInteractive('df-854d401f-3061-4670-9645-0f725ade60a3')\"\n",
              "            title=\"Convert this dataframe to an interactive table.\"\n",
              "            style=\"display:none;\">\n",
              "\n",
              "  <svg xmlns=\"http://www.w3.org/2000/svg\" height=\"24px\" viewBox=\"0 -960 960 960\">\n",
              "    <path d=\"M120-120v-720h720v720H120Zm60-500h600v-160H180v160Zm220 220h160v-160H400v160Zm0 220h160v-160H400v160ZM180-400h160v-160H180v160Zm440 0h160v-160H620v160ZM180-180h160v-160H180v160Zm440 0h160v-160H620v160Z\"/>\n",
              "  </svg>\n",
              "    </button>\n",
              "\n",
              "  <style>\n",
              "    .colab-df-container {\n",
              "      display:flex;\n",
              "      gap: 12px;\n",
              "    }\n",
              "\n",
              "    .colab-df-convert {\n",
              "      background-color: #E8F0FE;\n",
              "      border: none;\n",
              "      border-radius: 50%;\n",
              "      cursor: pointer;\n",
              "      display: none;\n",
              "      fill: #1967D2;\n",
              "      height: 32px;\n",
              "      padding: 0 0 0 0;\n",
              "      width: 32px;\n",
              "    }\n",
              "\n",
              "    .colab-df-convert:hover {\n",
              "      background-color: #E2EBFA;\n",
              "      box-shadow: 0px 1px 2px rgba(60, 64, 67, 0.3), 0px 1px 3px 1px rgba(60, 64, 67, 0.15);\n",
              "      fill: #174EA6;\n",
              "    }\n",
              "\n",
              "    .colab-df-buttons div {\n",
              "      margin-bottom: 4px;\n",
              "    }\n",
              "\n",
              "    [theme=dark] .colab-df-convert {\n",
              "      background-color: #3B4455;\n",
              "      fill: #D2E3FC;\n",
              "    }\n",
              "\n",
              "    [theme=dark] .colab-df-convert:hover {\n",
              "      background-color: #434B5C;\n",
              "      box-shadow: 0px 1px 3px 1px rgba(0, 0, 0, 0.15);\n",
              "      filter: drop-shadow(0px 1px 2px rgba(0, 0, 0, 0.3));\n",
              "      fill: #FFFFFF;\n",
              "    }\n",
              "  </style>\n",
              "\n",
              "    <script>\n",
              "      const buttonEl =\n",
              "        document.querySelector('#df-854d401f-3061-4670-9645-0f725ade60a3 button.colab-df-convert');\n",
              "      buttonEl.style.display =\n",
              "        google.colab.kernel.accessAllowed ? 'block' : 'none';\n",
              "\n",
              "      async function convertToInteractive(key) {\n",
              "        const element = document.querySelector('#df-854d401f-3061-4670-9645-0f725ade60a3');\n",
              "        const dataTable =\n",
              "          await google.colab.kernel.invokeFunction('convertToInteractive',\n",
              "                                                    [key], {});\n",
              "        if (!dataTable) return;\n",
              "\n",
              "        const docLinkHtml = 'Like what you see? Visit the ' +\n",
              "          '<a target=\"_blank\" href=https://colab.research.google.com/notebooks/data_table.ipynb>data table notebook</a>'\n",
              "          + ' to learn more about interactive tables.';\n",
              "        element.innerHTML = '';\n",
              "        dataTable['output_type'] = 'display_data';\n",
              "        await google.colab.output.renderOutput(dataTable, element);\n",
              "        const docLink = document.createElement('div');\n",
              "        docLink.innerHTML = docLinkHtml;\n",
              "        element.appendChild(docLink);\n",
              "      }\n",
              "    </script>\n",
              "  </div>\n",
              "\n",
              "\n",
              "<div id=\"df-1136f3c0-cb07-49f2-a947-5a2b2428f5b6\">\n",
              "  <button class=\"colab-df-quickchart\" onclick=\"quickchart('df-1136f3c0-cb07-49f2-a947-5a2b2428f5b6')\"\n",
              "            title=\"Suggest charts\"\n",
              "            style=\"display:none;\">\n",
              "\n",
              "<svg xmlns=\"http://www.w3.org/2000/svg\" height=\"24px\"viewBox=\"0 0 24 24\"\n",
              "     width=\"24px\">\n",
              "    <g>\n",
              "        <path d=\"M19 3H5c-1.1 0-2 .9-2 2v14c0 1.1.9 2 2 2h14c1.1 0 2-.9 2-2V5c0-1.1-.9-2-2-2zM9 17H7v-7h2v7zm4 0h-2V7h2v10zm4 0h-2v-4h2v4z\"/>\n",
              "    </g>\n",
              "</svg>\n",
              "  </button>\n",
              "\n",
              "<style>\n",
              "  .colab-df-quickchart {\n",
              "      --bg-color: #E8F0FE;\n",
              "      --fill-color: #1967D2;\n",
              "      --hover-bg-color: #E2EBFA;\n",
              "      --hover-fill-color: #174EA6;\n",
              "      --disabled-fill-color: #AAA;\n",
              "      --disabled-bg-color: #DDD;\n",
              "  }\n",
              "\n",
              "  [theme=dark] .colab-df-quickchart {\n",
              "      --bg-color: #3B4455;\n",
              "      --fill-color: #D2E3FC;\n",
              "      --hover-bg-color: #434B5C;\n",
              "      --hover-fill-color: #FFFFFF;\n",
              "      --disabled-bg-color: #3B4455;\n",
              "      --disabled-fill-color: #666;\n",
              "  }\n",
              "\n",
              "  .colab-df-quickchart {\n",
              "    background-color: var(--bg-color);\n",
              "    border: none;\n",
              "    border-radius: 50%;\n",
              "    cursor: pointer;\n",
              "    display: none;\n",
              "    fill: var(--fill-color);\n",
              "    height: 32px;\n",
              "    padding: 0;\n",
              "    width: 32px;\n",
              "  }\n",
              "\n",
              "  .colab-df-quickchart:hover {\n",
              "    background-color: var(--hover-bg-color);\n",
              "    box-shadow: 0 1px 2px rgba(60, 64, 67, 0.3), 0 1px 3px 1px rgba(60, 64, 67, 0.15);\n",
              "    fill: var(--button-hover-fill-color);\n",
              "  }\n",
              "\n",
              "  .colab-df-quickchart-complete:disabled,\n",
              "  .colab-df-quickchart-complete:disabled:hover {\n",
              "    background-color: var(--disabled-bg-color);\n",
              "    fill: var(--disabled-fill-color);\n",
              "    box-shadow: none;\n",
              "  }\n",
              "\n",
              "  .colab-df-spinner {\n",
              "    border: 2px solid var(--fill-color);\n",
              "    border-color: transparent;\n",
              "    border-bottom-color: var(--fill-color);\n",
              "    animation:\n",
              "      spin 1s steps(1) infinite;\n",
              "  }\n",
              "\n",
              "  @keyframes spin {\n",
              "    0% {\n",
              "      border-color: transparent;\n",
              "      border-bottom-color: var(--fill-color);\n",
              "      border-left-color: var(--fill-color);\n",
              "    }\n",
              "    20% {\n",
              "      border-color: transparent;\n",
              "      border-left-color: var(--fill-color);\n",
              "      border-top-color: var(--fill-color);\n",
              "    }\n",
              "    30% {\n",
              "      border-color: transparent;\n",
              "      border-left-color: var(--fill-color);\n",
              "      border-top-color: var(--fill-color);\n",
              "      border-right-color: var(--fill-color);\n",
              "    }\n",
              "    40% {\n",
              "      border-color: transparent;\n",
              "      border-right-color: var(--fill-color);\n",
              "      border-top-color: var(--fill-color);\n",
              "    }\n",
              "    60% {\n",
              "      border-color: transparent;\n",
              "      border-right-color: var(--fill-color);\n",
              "    }\n",
              "    80% {\n",
              "      border-color: transparent;\n",
              "      border-right-color: var(--fill-color);\n",
              "      border-bottom-color: var(--fill-color);\n",
              "    }\n",
              "    90% {\n",
              "      border-color: transparent;\n",
              "      border-bottom-color: var(--fill-color);\n",
              "    }\n",
              "  }\n",
              "</style>\n",
              "\n",
              "  <script>\n",
              "    async function quickchart(key) {\n",
              "      const quickchartButtonEl =\n",
              "        document.querySelector('#' + key + ' button');\n",
              "      quickchartButtonEl.disabled = true;  // To prevent multiple clicks.\n",
              "      quickchartButtonEl.classList.add('colab-df-spinner');\n",
              "      try {\n",
              "        const charts = await google.colab.kernel.invokeFunction(\n",
              "            'suggestCharts', [key], {});\n",
              "      } catch (error) {\n",
              "        console.error('Error during call to suggestCharts:', error);\n",
              "      }\n",
              "      quickchartButtonEl.classList.remove('colab-df-spinner');\n",
              "      quickchartButtonEl.classList.add('colab-df-quickchart-complete');\n",
              "    }\n",
              "    (() => {\n",
              "      let quickchartButtonEl =\n",
              "        document.querySelector('#df-1136f3c0-cb07-49f2-a947-5a2b2428f5b6 button');\n",
              "      quickchartButtonEl.style.display =\n",
              "        google.colab.kernel.accessAllowed ? 'block' : 'none';\n",
              "    })();\n",
              "  </script>\n",
              "</div>\n",
              "\n",
              "  <div id=\"id_5c4c1c4f-2400-4782-9896-5ed563fd4b36\">\n",
              "    <style>\n",
              "      .colab-df-generate {\n",
              "        background-color: #E8F0FE;\n",
              "        border: none;\n",
              "        border-radius: 50%;\n",
              "        cursor: pointer;\n",
              "        display: none;\n",
              "        fill: #1967D2;\n",
              "        height: 32px;\n",
              "        padding: 0 0 0 0;\n",
              "        width: 32px;\n",
              "      }\n",
              "\n",
              "      .colab-df-generate:hover {\n",
              "        background-color: #E2EBFA;\n",
              "        box-shadow: 0px 1px 2px rgba(60, 64, 67, 0.3), 0px 1px 3px 1px rgba(60, 64, 67, 0.15);\n",
              "        fill: #174EA6;\n",
              "      }\n",
              "\n",
              "      [theme=dark] .colab-df-generate {\n",
              "        background-color: #3B4455;\n",
              "        fill: #D2E3FC;\n",
              "      }\n",
              "\n",
              "      [theme=dark] .colab-df-generate:hover {\n",
              "        background-color: #434B5C;\n",
              "        box-shadow: 0px 1px 3px 1px rgba(0, 0, 0, 0.15);\n",
              "        filter: drop-shadow(0px 1px 2px rgba(0, 0, 0, 0.3));\n",
              "        fill: #FFFFFF;\n",
              "      }\n",
              "    </style>\n",
              "    <button class=\"colab-df-generate\" onclick=\"generateWithVariable('y_train')\"\n",
              "            title=\"Generate code using this dataframe.\"\n",
              "            style=\"display:none;\">\n",
              "\n",
              "  <svg xmlns=\"http://www.w3.org/2000/svg\" height=\"24px\"viewBox=\"0 0 24 24\"\n",
              "       width=\"24px\">\n",
              "    <path d=\"M7,19H8.4L18.45,9,17,7.55,7,17.6ZM5,21V16.75L18.45,3.32a2,2,0,0,1,2.83,0l1.4,1.43a1.91,1.91,0,0,1,.58,1.4,1.91,1.91,0,0,1-.58,1.4L9.25,21ZM18.45,9,17,7.55Zm-12,3A5.31,5.31,0,0,0,4.9,8.1,5.31,5.31,0,0,0,1,6.5,5.31,5.31,0,0,0,4.9,4.9,5.31,5.31,0,0,0,6.5,1,5.31,5.31,0,0,0,8.1,4.9,5.31,5.31,0,0,0,12,6.5,5.46,5.46,0,0,0,6.5,12Z\"/>\n",
              "  </svg>\n",
              "    </button>\n",
              "    <script>\n",
              "      (() => {\n",
              "      const buttonEl =\n",
              "        document.querySelector('#id_5c4c1c4f-2400-4782-9896-5ed563fd4b36 button.colab-df-generate');\n",
              "      buttonEl.style.display =\n",
              "        google.colab.kernel.accessAllowed ? 'block' : 'none';\n",
              "\n",
              "      buttonEl.onclick = () => {\n",
              "        google.colab.notebook.generateWithVariable('y_train');\n",
              "      }\n",
              "      })();\n",
              "    </script>\n",
              "  </div>\n",
              "\n",
              "    </div>\n",
              "  </div>\n"
            ]
          },
          "metadata": {},
          "execution_count": 53
        }
      ]
    },
    {
      "cell_type": "code",
      "execution_count": 54,
      "metadata": {
        "id": "B9GeM2HbWewu",
        "colab": {
          "base_uri": "https://localhost:8080/"
        },
        "outputId": "c153427a-33e0-438d-e178-88df1bcda3e3"
      },
      "outputs": [
        {
          "output_type": "stream",
          "name": "stdout",
          "text": [
            "Epoch 1/20\n",
            "1361/1361 [==============================] - 15s 8ms/step - loss: 0.8225 - accuracy: 0.6451 - val_loss: 0.7700 - val_accuracy: 0.6770\n",
            "Epoch 2/20\n",
            "1361/1361 [==============================] - 10s 8ms/step - loss: 0.7492 - accuracy: 0.6859 - val_loss: 0.7504 - val_accuracy: 0.6872\n",
            "Epoch 3/20\n",
            "1361/1361 [==============================] - 12s 9ms/step - loss: 0.7198 - accuracy: 0.6996 - val_loss: 0.7399 - val_accuracy: 0.6931\n",
            "Epoch 4/20\n",
            "1361/1361 [==============================] - 10s 8ms/step - loss: 0.7007 - accuracy: 0.7081 - val_loss: 0.7383 - val_accuracy: 0.6951\n",
            "Epoch 5/20\n",
            "1361/1361 [==============================] - 10s 7ms/step - loss: 0.6847 - accuracy: 0.7157 - val_loss: 0.7407 - val_accuracy: 0.6936\n",
            "Epoch 6/20\n",
            "1361/1361 [==============================] - 12s 8ms/step - loss: 0.6731 - accuracy: 0.7211 - val_loss: 0.7429 - val_accuracy: 0.6956\n",
            "Epoch 7/20\n",
            "1361/1361 [==============================] - 11s 8ms/step - loss: 0.6631 - accuracy: 0.7254 - val_loss: 0.7350 - val_accuracy: 0.6967\n",
            "Epoch 8/20\n",
            "1361/1361 [==============================] - 12s 9ms/step - loss: 0.6552 - accuracy: 0.7288 - val_loss: 0.7391 - val_accuracy: 0.6946\n",
            "Epoch 9/20\n",
            "1361/1361 [==============================] - 10s 8ms/step - loss: 0.6474 - accuracy: 0.7332 - val_loss: 0.7461 - val_accuracy: 0.6916\n",
            "Epoch 10/20\n",
            "1361/1361 [==============================] - 9s 7ms/step - loss: 0.6410 - accuracy: 0.7356 - val_loss: 0.7368 - val_accuracy: 0.6994\n",
            "Epoch 11/20\n",
            "1361/1361 [==============================] - 13s 10ms/step - loss: 0.6363 - accuracy: 0.7379 - val_loss: 0.7490 - val_accuracy: 0.6936\n",
            "Epoch 12/20\n",
            "1361/1361 [==============================] - 10s 8ms/step - loss: 0.6285 - accuracy: 0.7416 - val_loss: 0.7472 - val_accuracy: 0.6978\n",
            "Epoch 13/20\n",
            "1361/1361 [==============================] - 12s 9ms/step - loss: 0.6235 - accuracy: 0.7444 - val_loss: 0.7402 - val_accuracy: 0.6983\n",
            "Epoch 14/20\n",
            "1361/1361 [==============================] - 11s 8ms/step - loss: 0.6188 - accuracy: 0.7464 - val_loss: 0.7467 - val_accuracy: 0.6999\n",
            "Epoch 15/20\n",
            "1361/1361 [==============================] - 11s 8ms/step - loss: 0.6134 - accuracy: 0.7485 - val_loss: 0.7647 - val_accuracy: 0.6908\n",
            "Epoch 16/20\n",
            "1361/1361 [==============================] - 12s 9ms/step - loss: 0.6098 - accuracy: 0.7505 - val_loss: 0.7824 - val_accuracy: 0.6845\n",
            "Epoch 17/20\n",
            "1361/1361 [==============================] - 9s 7ms/step - loss: 0.6038 - accuracy: 0.7529 - val_loss: 0.7550 - val_accuracy: 0.6984\n",
            "Epoch 18/20\n",
            "1361/1361 [==============================] - 11s 8ms/step - loss: 0.6000 - accuracy: 0.7552 - val_loss: 0.7670 - val_accuracy: 0.6928\n",
            "Epoch 19/20\n",
            "1361/1361 [==============================] - 12s 9ms/step - loss: 0.5950 - accuracy: 0.7574 - val_loss: 0.7665 - val_accuracy: 0.6991\n",
            "Epoch 20/20\n",
            "1361/1361 [==============================] - 10s 8ms/step - loss: 0.5918 - accuracy: 0.7589 - val_loss: 0.7733 - val_accuracy: 0.6960\n"
          ]
        },
        {
          "output_type": "execute_result",
          "data": {
            "text/plain": [
              "<keras.src.callbacks.History at 0x7db80c30c7c0>"
            ]
          },
          "metadata": {},
          "execution_count": 54
        }
      ],
      "source": [
        "# Train the model\n",
        "models.fit(x_train, y_train, epochs=20, batch_size=200, validation_data=(x_test, y_test))\n"
      ]
    },
    {
      "cell_type": "code",
      "source": [
        "# Evaluate the model\n",
        "loss, accuracy = models.evaluate(x_test, y_test)\n",
        "print(f'Test Accuracy: {accuracy}')\n"
      ],
      "metadata": {
        "colab": {
          "base_uri": "https://localhost:8080/"
        },
        "id": "5nYSfJxT8FtP",
        "outputId": "8a85c92c-259a-4482-9ca9-f36279d3bde8"
      },
      "execution_count": 56,
      "outputs": [
        {
          "output_type": "stream",
          "name": "stdout",
          "text": [
            "2835/2835 [==============================] - 12s 4ms/step - loss: 0.7733 - accuracy: 0.6960\n",
            "Test Accuracy: 0.6959934830665588\n"
          ]
        }
      ]
    },
    {
      "cell_type": "code",
      "source": [],
      "metadata": {
        "id": "-Xh1aeruEnJK"
      },
      "execution_count": null,
      "outputs": []
    }
  ],
  "metadata": {
    "accelerator": "GPU",
    "colab": {
      "provenance": []
    },
    "kernelspec": {
      "display_name": "Python 3",
      "name": "python3"
    },
    "language_info": {
      "name": "python"
    }
  },
  "nbformat": 4,
  "nbformat_minor": 0
}